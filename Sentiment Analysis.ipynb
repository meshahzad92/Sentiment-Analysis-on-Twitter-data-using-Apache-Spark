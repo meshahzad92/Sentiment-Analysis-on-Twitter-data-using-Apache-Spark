{
  "cells": [
    {
      "cell_type": "markdown",
      "metadata": {},
      "source": [
        "## Installation"
      ]
    },
    {
      "cell_type": "code",
      "execution_count": 1,
      "metadata": {
        "colab": {
          "base_uri": "https://localhost:8080/"
        },
        "id": "mbjynJq0-3QX",
        "outputId": "8f95ad3c-75d0-4562-d59f-cf042c8f0164"
      },
      "outputs": [
        {
          "name": "stdout",
          "output_type": "stream",
          "text": [
            "Collecting pyspark\n",
            "  Downloading pyspark-3.5.1.tar.gz (317.0 MB)\n",
            "\u001b[2K     \u001b[90m━━━━━━━━━━━━━━━━━━━━━━━━━━━━━━━━━━━━━━━━\u001b[0m \u001b[32m317.0/317.0 MB\u001b[0m \u001b[31m4.0 MB/s\u001b[0m eta \u001b[36m0:00:00\u001b[0m\n",
            "\u001b[?25h  Preparing metadata (setup.py) ... \u001b[?25l\u001b[?25hdone\n",
            "Requirement already satisfied: py4j==0.10.9.7 in /usr/local/lib/python3.10/dist-packages (from pyspark) (0.10.9.7)\n",
            "Building wheels for collected packages: pyspark\n",
            "  Building wheel for pyspark (setup.py) ... \u001b[?25l\u001b[?25hdone\n",
            "  Created wheel for pyspark: filename=pyspark-3.5.1-py2.py3-none-any.whl size=317488491 sha256=2aa0f05392c467ebaa989906b93772d3ff32837694113e9468ebc0ad0c6403ac\n",
            "  Stored in directory: /root/.cache/pip/wheels/80/1d/60/2c256ed38dddce2fdd93be545214a63e02fbd8d74fb0b7f3a6\n",
            "Successfully built pyspark\n",
            "Installing collected packages: pyspark\n",
            "Successfully installed pyspark-3.5.1\n"
          ]
        }
      ],
      "source": [
        "\n",
        "!pip install pyspark"
      ]
    },
    {
      "cell_type": "code",
      "execution_count": 2,
      "metadata": {
        "id": "ed5dpOjqyFaW"
      },
      "outputs": [],
      "source": [
        "from pyspark.sql import SparkSession\n",
        "from pyspark.ml.feature import RegexTokenizer, StopWordsRemover, HashingTF, IDF\n",
        "from pyspark.ml.classification import LogisticRegression, NaiveBayes\n",
        "from pyspark.ml import Pipeline\n",
        "from pyspark.ml.evaluation import MulticlassClassificationEvaluator\n",
        "from pyspark.ml.feature import StringIndexer\n",
        "\n",
        "\n",
        "from pyspark.ml.feature import Tokenizer\n",
        "from pyspark.ml.feature import StopWordsRemover\n",
        "\n",
        "\n",
        "from pyspark.sql.functions import regexp_replace\n",
        "import re\n",
        "from pyspark.sql import functions as F\n",
        "from pyspark.sql.types import StringType\n",
        "\n",
        "from pyspark.sql import SparkSession\n",
        "from pyspark.sql.functions import udf, col\n",
        "from pyspark.sql.types import StringType\n",
        "import nltk\n",
        "from nltk.sentiment import SentimentIntensityAnalyzer\n",
        "\n",
        "from pyspark.sql import functions as F\n",
        "\n",
        "from pyspark.sql.functions import explode, col,split\n",
        "\n",
        "from wordcloud import WordCloud\n",
        "import matplotlib.pyplot as plt"
      ]
    },
    {
      "cell_type": "markdown",
      "metadata": {},
      "source": [
        "## Reading CSV and merging"
      ]
    },
    {
      "cell_type": "code",
      "execution_count": 3,
      "metadata": {
        "id": "V0hZXqFO_B7k"
      },
      "outputs": [],
      "source": [
        "spark = SparkSession.builder \\\n",
        "    .appName(\"Read CSV into DataFrame\") \\\n",
        "    .getOrCreate()\n"
      ]
    },
    {
      "cell_type": "code",
      "execution_count": 4,
      "metadata": {
        "colab": {
          "base_uri": "https://localhost:8080/"
        },
        "id": "cm9BOiNPDSh4",
        "outputId": "5b5e1c04-0a10-485c-d47f-653901313508"
      },
      "outputs": [
        {
          "name": "stdout",
          "output_type": "stream",
          "text": [
            "+--------------------+-------------------+--------------------+--------------------+--------------------+--------------------+--------------------+--------+\n",
            "|        created_date|           tweet_id|           author_id|                text|          is_retweet|          retweet_id|   retweet_author_id|  dateid|\n",
            "+--------------------+-------------------+--------------------+--------------------+--------------------+--------------------+--------------------+--------+\n",
            "| 2022-01-22 00:00:00|1484677190230945801|        2815008193.0|RT @melenchon_202...|                NULL|                NULL|                NULL|    NULL|\n",
            "|    #ConseilConsti…\"|               True|1.484572290851422...|1.324766177919381...|            20220122|                NULL|                NULL|    NULL|\n",
            "| 2022-01-22 00:00:01|1484677191715672069|1.184512866885558...|\"\"\"Only an except...|\"\" @lieven_anatol...|                NULL|                NULL|    NULL|\n",
            "|https://t.co/k2U9...|              False|                NULL|                NULL|            20220122|                NULL|                NULL|    NULL|\n",
            "| 2022-01-22 00:00:01|1484677192319651844|1.181658203324665...|RT @louannedlh: i...|                True|1.484613467491479...|        2191604457.0|20220122|\n",
            "| 2022-01-22 00:00:01|1484677193225719818|         552619385.0|@nadine__morano B...|               False|                NULL|                NULL|20220122|\n",
            "| 2022-01-22 00:00:01|1484677193649295362|7.894553799231652...|        Cher Victor,|                NULL|                NULL|                NULL|    NULL|\n",
            "|Je voulais te tém...|              False|                NULL|                NULL|            20220122|                NULL|                NULL|    NULL|\n",
            "| 2022-01-22 00:00:01|1484677193737322504|         585942808.0|@rawilson1610 @sh...|                NULL|                NULL|                NULL|    NULL|\n",
            "|@pritipatel @Bori...|              False|                NULL|                NULL|            20220122|                NULL|                NULL|    NULL|\n",
            "| 2022-01-22 00:00:01|1484677194685329412|1.418581777942257...|RT @FranckMonasse...|                True|1.484510655310876...|1.223264769941147...|20220122|\n",
            "| 2022-01-22 00:00:02|1484677196740546564|1.479722835555856...|RT @Gartondeau: V...|                True|1.484573055473102...|8.130675321732506...|20220122|\n",
            "| 2022-01-22 00:00:02|1484677197906554882|        4878305871.0|RT @louannedlh: i...|                True|1.484613467491479...|        2191604457.0|20220122|\n",
            "| 2022-01-22 00:00:02|1484677197927432199|9.460183296046162...|RT @louannedlh: i...|                True|1.484613467491479...|        2191604457.0|20220122|\n",
            "| 2022-01-22 00:00:03|1484677200142086146|7.081108477474775...|RT @FrediBern: @P...|                True|1.483106407423647...|1.323369805227974...|20220122|\n",
            "| 2022-01-22 00:00:03|1484677200502833153|1.440472791212429...|RT @GeWoessner: U...|                True|1.484629320115097...|         122253091.0|20220122|\n",
            "| 2022-01-22 00:00:04|1484677203971428357|         204091902.0|RT @louannedlh: i...|                True|1.484613467491479...|        2191604457.0|20220122|\n",
            "| 2022-01-22 00:00:04|1484677204344811527|         573954014.0|@mlle_trtr @RH_FI...|               False|                NULL|                NULL|20220122|\n",
            "| 2022-01-22 00:00:04|1484677204663488512|1.483948337686581...|RT @SelamTi052596...|                NULL|                NULL|                NULL|    NULL|\n",
            "|Act now to save m...|               NULL|                NULL|                NULL|                NULL|                NULL|                NULL|    NULL|\n",
            "+--------------------+-------------------+--------------------+--------------------+--------------------+--------------------+--------------------+--------+\n",
            "only showing top 20 rows\n",
            "\n"
          ]
        }
      ],
      "source": [
        "df1 = spark.read.csv(\"/content/2022_4.csv\", header=True, inferSchema=True)\n",
        "# df2=spark.read.csv(\"/content/2022_5.csv\", header=True, inferSchema=True)\n",
        "# df3 = spark.read.csv(\"/content/2022_6.csv\", header=True, inferSchema=True)\n",
        "# df4=spark.read.csv(\"/content/2022_7.csv\", header=True, inferSchema=True)\n",
        "# df5 = spark.read.csv(\"/content/2022_8.csv\", header=True, inferSchema=True)\n",
        "# df6=spark.read.csv(\"/content/2022_9.csv\", header=True, inferSchema=True)\n",
        "# df7 = spark.read.csv(\"/content/2022_10.csv\", header=True, inferSchema=True)\n",
        "# df8=spark.read.csv(\"/content/2022_11.csv\", header=True, inferSchema=True)\n",
        "# df9 = spark.read.csv(\"/content/2022_12.csv\", header=True, inferSchema=True)\n",
        "# df10=spark.read.csv(\"/content/2022_13.csv\", header=True, inferSchema=True)\n",
        "# df11 = spark.read.csv(\"/content/2022_14.csv\", header=True, inferSchema=True)\n",
        "df1.show()"
      ]
    },
    {
      "cell_type": "code",
      "execution_count": 6,
      "metadata": {
        "colab": {
          "base_uri": "https://localhost:8080/"
        },
        "id": "q3ei11VxDu9N",
        "outputId": "6286385a-ba9e-459f-db1d-75faf7e0eee5"
      },
      "outputs": [
        {
          "name": "stdout",
          "output_type": "stream",
          "text": [
            "+--------------------+-------------------+--------------------+--------------------+--------------------+--------------------+--------------------+--------+\n",
            "|        created_date|           tweet_id|           author_id|                text|          is_retweet|          retweet_id|   retweet_author_id|  dateid|\n",
            "+--------------------+-------------------+--------------------+--------------------+--------------------+--------------------+--------------------+--------+\n",
            "| 2022-01-22 00:00:00|1484677190230945801|        2815008193.0|RT @melenchon_202...|                NULL|                NULL|                NULL|    NULL|\n",
            "|    #ConseilConsti…\"|               True|1.484572290851422...|1.324766177919381...|            20220122|                NULL|                NULL|    NULL|\n",
            "| 2022-01-22 00:00:01|1484677191715672069|1.184512866885558...|\"\"\"Only an except...|\"\" @lieven_anatol...|                NULL|                NULL|    NULL|\n",
            "|https://t.co/k2U9...|              False|                NULL|                NULL|            20220122|                NULL|                NULL|    NULL|\n",
            "| 2022-01-22 00:00:01|1484677192319651844|1.181658203324665...|RT @louannedlh: i...|                True|1.484613467491479...|        2191604457.0|20220122|\n",
            "| 2022-01-22 00:00:01|1484677193225719818|         552619385.0|@nadine__morano B...|               False|                NULL|                NULL|20220122|\n",
            "| 2022-01-22 00:00:01|1484677193649295362|7.894553799231652...|        Cher Victor,|                NULL|                NULL|                NULL|    NULL|\n",
            "|Je voulais te tém...|              False|                NULL|                NULL|            20220122|                NULL|                NULL|    NULL|\n",
            "| 2022-01-22 00:00:01|1484677193737322504|         585942808.0|@rawilson1610 @sh...|                NULL|                NULL|                NULL|    NULL|\n",
            "|@pritipatel @Bori...|              False|                NULL|                NULL|            20220122|                NULL|                NULL|    NULL|\n",
            "| 2022-01-22 00:00:01|1484677194685329412|1.418581777942257...|RT @FranckMonasse...|                True|1.484510655310876...|1.223264769941147...|20220122|\n",
            "| 2022-01-22 00:00:02|1484677196740546564|1.479722835555856...|RT @Gartondeau: V...|                True|1.484573055473102...|8.130675321732506...|20220122|\n",
            "| 2022-01-22 00:00:02|1484677197906554882|        4878305871.0|RT @louannedlh: i...|                True|1.484613467491479...|        2191604457.0|20220122|\n",
            "| 2022-01-22 00:00:02|1484677197927432199|9.460183296046162...|RT @louannedlh: i...|                True|1.484613467491479...|        2191604457.0|20220122|\n",
            "| 2022-01-22 00:00:03|1484677200142086146|7.081108477474775...|RT @FrediBern: @P...|                True|1.483106407423647...|1.323369805227974...|20220122|\n",
            "| 2022-01-22 00:00:03|1484677200502833153|1.440472791212429...|RT @GeWoessner: U...|                True|1.484629320115097...|         122253091.0|20220122|\n",
            "| 2022-01-22 00:00:04|1484677203971428357|         204091902.0|RT @louannedlh: i...|                True|1.484613467491479...|        2191604457.0|20220122|\n",
            "| 2022-01-22 00:00:04|1484677204344811527|         573954014.0|@mlle_trtr @RH_FI...|               False|                NULL|                NULL|20220122|\n",
            "| 2022-01-22 00:00:04|1484677204663488512|1.483948337686581...|RT @SelamTi052596...|                NULL|                NULL|                NULL|    NULL|\n",
            "|Act now to save m...|               NULL|                NULL|                NULL|                NULL|                NULL|                NULL|    NULL|\n",
            "+--------------------+-------------------+--------------------+--------------------+--------------------+--------------------+--------------------+--------+\n",
            "only showing top 20 rows\n",
            "\n"
          ]
        },
        {
          "data": {
            "text/plain": [
              "10000"
            ]
          },
          "execution_count": 6,
          "metadata": {},
          "output_type": "execute_result"
        }
      ],
      "source": [
        "# #merging\n",
        "# merged_df1 = df1\n",
        "# merged_df2=merged_df1.union(df2)\n",
        "# merged_df3=merged_df2.union(df3)\n",
        "# merged_df4=merged_df3.union(df4)\n",
        "# merged_df5=merged_df4.union(df5)\n",
        "# merged_df6=merged_df5.union(df6)\n",
        "# merged_df7=merged_df6.union(df7)\n",
        "# merged_df8=merged_df7.union(df8)\n",
        "# merged_df9=merged_df8.union(df9)\n",
        "# merged_df10=merged_df9.union(df10)\n",
        "# merged_df=merged_df10.union(df11)\n",
        "\n",
        "# merged_df.count()\n",
        "\n",
        "# #merged_df=df1\n",
        "merged_df=df1\n",
        "merged_df=merged_df.limit(10000)\n",
        "merged_df.show()\n",
        "merged_df.count()\n"
      ]
    },
    {
      "cell_type": "markdown",
      "metadata": {},
      "source": [
        "## Pre-Processing"
      ]
    },
    {
      "cell_type": "code",
      "execution_count": 7,
      "metadata": {
        "colab": {
          "base_uri": "https://localhost:8080/"
        },
        "id": "TdhPIIw5EduY",
        "outputId": "8a10dac3-f29c-4b4c-de6e-7b5f13f3de11"
      },
      "outputs": [
        {
          "name": "stdout",
          "output_type": "stream",
          "text": [
            "+--------------------+--------------------+----------+--------------------+\n",
            "|                text|          retweet_id|is_retweet|   retweet_author_id|\n",
            "+--------------------+--------------------+----------+--------------------+\n",
            "|RT louannedlh il ...|1.484613467491479...|      True|        2191604457.0|\n",
            "|RT FranckMonasse ...|1.484510655310876...|      True|1.223264769941147...|\n",
            "|RT Gartondeau Vou...|1.484573055473102...|      True|8.130675321732506...|\n",
            "|RT louannedlh il ...|1.484613467491479...|      True|        2191604457.0|\n",
            "|RT louannedlh il ...|1.484613467491479...|      True|        2191604457.0|\n",
            "|RT FrediBern Phil...|1.483106407423647...|      True|1.323369805227974...|\n",
            "|RT GeWoessner Upd...|1.484629320115097...|      True|         122253091.0|\n",
            "|RT louannedlh il ...|1.484613467491479...|      True|        2191604457.0|\n",
            "|RT louannedlh il ...|1.484613467491479...|      True|        2191604457.0|\n",
            "|RT escmk Salut Vi...|1.484651078801145...|      True|1.144574167481757...|\n",
            "|RT ZemmourEric Ap...|1.484480668096684...|      True|1.183418538285027...|\n",
            "|RT RLDILamy Un an...|1.484673884670546...|      True|         297316043.0|\n",
            "|RT louannedlh il ...|1.484613467491479...|      True|        2191604457.0|\n",
            "|RT louannedlh il ...|1.484613467491479...|      True|        2191604457.0|\n",
            "|RT StevenKenzal L...|1.484613140063174...|      True|1.418812611068584...|\n",
            "|RT 681950c1o9 Le ...|1.484618906903982...|      True|1.474806886520299...|\n",
            "|RT yannoujr10 Ptd...|1.484536504693268...|      True|8.223573124635853...|\n",
            "|RT maitrepardo Fa...|1.484229721906987...|      True|8.365336315815813...|\n",
            "|RT DamienRieu Jai...|1.484133852780105...|      True|         978184280.0|\n",
            "|RT louannedlh il ...|1.484613467491479...|      True|        2191604457.0|\n",
            "+--------------------+--------------------+----------+--------------------+\n",
            "only showing top 20 rows\n",
            "\n"
          ]
        },
        {
          "data": {
            "text/plain": [
              "3903"
            ]
          },
          "execution_count": 7,
          "metadata": {},
          "output_type": "execute_result"
        }
      ],
      "source": [
        "#----------Pre-processing Starts here-----------\n",
        "\n",
        "#merged_df = merged_df.withColumnRenamed(\"Tweet\", \"text\")\n",
        "\n",
        "# Select the specific column\n",
        "selected_df = merged_df.select('text','retweet_id','is_retweet','retweet_author_id')\n",
        "selected_df = selected_df.dropna(how='any')\n",
        "# Drop duplicate rows based on the specific column\n",
        "filtered_df = selected_df.dropDuplicates()\n",
        "\n",
        "# Drop rows with null values in the specific column\n",
        "#filtered_df = nodublicates.dropna(how='any')\n",
        "\n",
        "\n",
        "# Remove mentions\n",
        "mention_pattern = r'@\\w+'\n",
        "\n",
        "removed_mentions_df = filtered_df.withColumn('text', regexp_replace('text', mention_pattern, ''))\n",
        "#removed_mentions_df.show()\n",
        "\n",
        "# Remove URLs\n",
        "url_pattern = r'http[s]?://(?:[a-zA-Z]|[0-9]|[$-_@.&+]|[!*\\\\(\\\\),]|(?:%[0-9a-fA-F][0-9a-fA-F]))+'\n",
        "\n",
        "removed_urls_df = removed_mentions_df.withColumn('text', regexp_replace('text', url_pattern, ''))\n",
        "#removed_urls_df.show()\n",
        "\n",
        "# Remove special characters\n",
        "special_char_pattern = r'[^a-zA-Z0-9\\s]'\n",
        "\n",
        "removed_special_chars_df = selected_df.withColumn('text', regexp_replace('text', special_char_pattern, ''))\n",
        "#removed_special_chars_df.show()\n",
        "\n",
        "filtered1_df = removed_special_chars_df.na.drop(subset=['text'])\n",
        "#filtered1_df.show()\n",
        "\n",
        "\n",
        "# Remove emojis\n",
        "\n",
        "def remove_emojis(text):\n",
        "    emoji_pattern = re.compile(\"[\"\n",
        "                               u\"\\U0001F600-\\U0001F64F\"\n",
        "                               u\"\\U0001F300-\\U0001F5FF\"\n",
        "                               u\"\\U0001F680-\\U0001F6FF\"\n",
        "                               u\"\\U0001F700-\\U0001F77F\"\n",
        "                               u\"\\U0001F780-\\U0001F7FF\"\n",
        "                               u\"\\U0001F800-\\U0001F8FF\"\n",
        "                               u\"\\U0001F900-\\U0001F9FF\"\n",
        "                               u\"\\U0001FA00-\\U0001FA6F\"\n",
        "                               u\"\\U00002702-\\U000027B0\"\n",
        "                               u\"\\ufe0f\"\n",
        "                               u\"\\u3030\"\n",
        "                               \"]+\", flags=re.UNICODE)\n",
        "    return emoji_pattern.sub(r'', text)\n",
        "\n",
        "remove_emojis_udf = F.udf(remove_emojis, StringType())\n",
        "cleaned_data = filtered1_df.withColumn(\"text\", remove_emojis_udf(\"text\"))\n",
        "cleaned_data.show()\n",
        "cleaned_data.count()"
      ]
    },
    {
      "cell_type": "code",
      "execution_count": 14,
      "metadata": {
        "colab": {
          "base_uri": "https://localhost:8080/"
        },
        "id": "azBSvEwtOm7T",
        "outputId": "85087d60-200f-40c1-d1b4-c72bf880155b"
      },
      "outputs": [
        {
          "name": "stdout",
          "output_type": "stream",
          "text": [
            "+-------------------------------------------------------------------------------------------------------------------------------------+--------------------------------------------------------------------------------------------------------------------------------------------------------------+\n",
            "|text                                                                                                                                 |tokens                                                                                                                                                        |\n",
            "+-------------------------------------------------------------------------------------------------------------------------------------+--------------------------------------------------------------------------------------------------------------------------------------------------------------+\n",
            "|RT louannedlh il a pris des photos de filles voiles  la fac et les a mis sur twitter pr dire NON  ce genre daccoutrement mais il     |[rt, louannedlh, il, a, pris, des, photos, de, filles, voiles, , la, fac, et, les, a, mis, sur, twitter, pr, dire, non, , ce, genre, daccoutrement, mais, il] |\n",
            "|RT FranckMonasse Fabien Roussel invit de France24 et de RFI httpstcoSv7C8fFOVK via YouTube                                           |[rt, franckmonasse, fabien, roussel, invit, de, france24, et, de, rfi, httpstcosv7c8ffovk, via, youtube]                                                      |\n",
            "|RT Gartondeau Vous vous rendez compte que si Mlenchon ne subissait pas cette haine constante et hystrique de toutes part la FI ce ser|[rt, gartondeau, vous, vous, rendez, compte, que, si, mlenchon, ne, subissait, pas, cette, haine, constante, et, hystrique, de, toutes, part, la, fi, ce, ser]|\n",
            "|RT louannedlh il a pris des photos de filles voiles  la fac et les a mis sur twitter pr dire NON  ce genre daccoutrement mais il     |[rt, louannedlh, il, a, pris, des, photos, de, filles, voiles, , la, fac, et, les, a, mis, sur, twitter, pr, dire, non, , ce, genre, daccoutrement, mais, il] |\n",
            "|RT louannedlh il a pris des photos de filles voiles  la fac et les a mis sur twitter pr dire NON  ce genre daccoutrement mais il     |[rt, louannedlh, il, a, pris, des, photos, de, filles, voiles, , la, fac, et, les, a, mis, sur, twitter, pr, dire, non, , ce, genre, daccoutrement, mais, il] |\n",
            "|RT FrediBern PhilippeMurer vpecresse le vent tourne que vous commencez  retropedaler Il fallait appeler votre groupe AN et Snat a ma |[rt, fredibern, philippemurer, vpecresse, le, vent, tourne, que, vous, commencez, , retropedaler, il, fallait, appeler, votre, groupe, an, et, snat, a, ma]   |\n",
            "|RT GeWoessner Update sur la TeamZemmour  Benjamin Cauchy Gilbert Collard Antoine Diers JeanYves Le Gallou Jean Messiha Vijay Mona    |[rt, gewoessner, update, sur, la, teamzemmour, , benjamin, cauchy, gilbert, collard, antoine, diers, jeanyves, le, gallou, jean, messiha, vijay, mona]        |\n",
            "|RT louannedlh il a pris des photos de filles voiles  la fac et les a mis sur twitter pr dire NON  ce genre daccoutrement mais il     |[rt, louannedlh, il, a, pris, des, photos, de, filles, voiles, , la, fac, et, les, a, mis, sur, twitter, pr, dire, non, , ce, genre, daccoutrement, mais, il] |\n",
            "|RT louannedlh il a pris des photos de filles voiles  la fac et les a mis sur twitter pr dire NON  ce genre daccoutrement mais il     |[rt, louannedlh, il, a, pris, des, photos, de, filles, voiles, , la, fac, et, les, a, mis, sur, twitter, pr, dire, non, , ce, genre, daccoutrement, mais, il] |\n",
            "|RT escmk Salut Victor comment se faitil quen tant que juriste droit social tu parles de licenciement alors que tu tais en CDD  Co    |[rt, escmk, salut, victor, comment, se, faitil, quen, tant, que, juriste, droit, social, tu, parles, de, licenciement, alors, que, tu, tais, en, cdd, , co]   |\n",
            "|RT ZemmourEric Aprs avoir voulu jouer au politicien cynique avec le Covid Emmanuel Macron est dsormais dans laffolement total Sa str |[rt, zemmoureric, aprs, avoir, voulu, jouer, au, politicien, cynique, avec, le, covid, emmanuel, macron, est, dsormais, dans, laffolement, total, sa, str]    |\n",
            "|RT RLDILamy Un an aprs lannonce du planquantique par EmmanuelMacron Macron laction la plus importante est la validation du program   |[rt, rldilamy, un, an, aprs, lannonce, du, planquantique, par, emmanuelmacron, macron, laction, la, plus, importante, est, la, validation, du, program]       |\n",
            "|RT louannedlh il a pris des photos de filles voiles  la fac et les a mis sur twitter pr dire NON  ce genre daccoutrement mais il     |[rt, louannedlh, il, a, pris, des, photos, de, filles, voiles, , la, fac, et, les, a, mis, sur, twitter, pr, dire, non, , ce, genre, daccoutrement, mais, il] |\n",
            "|RT louannedlh il a pris des photos de filles voiles  la fac et les a mis sur twitter pr dire NON  ce genre daccoutrement mais il     |[rt, louannedlh, il, a, pris, des, photos, de, filles, voiles, , la, fac, et, les, a, mis, sur, twitter, pr, dire, non, , ce, genre, daccoutrement, mais, il] |\n",
            "|RT StevenKenzal Lenine13 FabienRoussel PCF Je parlais des lits dhopitaux et tout le merdier que le gouvernement nous a laiss         |[rt, stevenkenzal, lenine13, fabienroussel, pcf, je, parlais, des, lits, dhopitaux, et, tout, le, merdier, que, le, gouvernement, nous, a, laiss]             |\n",
            "|RT 681950c1o9 Le problme EmmanuelMacron vous navez pas la lumire allume  tout les tages Vous mentez depuis le dbutPassVacinal        |[rt, 681950c1o9, le, problme, emmanuelmacron, vous, navez, pas, la, lumire, allume, , tout, les, tages, vous, mentez, depuis, le, dbutpassvacinal]            |\n",
            "|RT yannoujr10 Ptdrrrr Zehma il a quitter linter pour aller  LAC Milan                                                                |[rt, yannoujr10, ptdrrrr, zehma, il, a, quitter, linter, pour, aller, , lac, milan]                                                                           |\n",
            "|RT maitrepardo Face au traitement discriminatoire dont est victime ZemmourEric et qui nourrit le soupon dune justice politique ses av|[rt, maitrepardo, face, au, traitement, discriminatoire, dont, est, victime, zemmoureric, et, qui, nourrit, le, soupon, dune, justice, politique, ses, av]    |\n",
            "|RT DamienRieu Jai pris la dcision de rejoindre  mon tour la campagne de ZemmourEric pour mener avec lui la Reconquete2022   http     |[rt, damienrieu, jai, pris, la, dcision, de, rejoindre, , mon, tour, la, campagne, de, zemmoureric, pour, mener, avec, lui, la, reconquete2022, , , http]     |\n",
            "|RT louannedlh il a pris des photos de filles voiles  la fac et les a mis sur twitter pr dire NON  ce genre daccoutrement mais il     |[rt, louannedlh, il, a, pris, des, photos, de, filles, voiles, , la, fac, et, les, a, mis, sur, twitter, pr, dire, non, , ce, genre, daccoutrement, mais, il] |\n",
            "+-------------------------------------------------------------------------------------------------------------------------------------+--------------------------------------------------------------------------------------------------------------------------------------------------------------+\n",
            "only showing top 20 rows\n",
            "\n"
          ]
        },
        {
          "data": {
            "text/plain": [
              "DataFrame[text: string, retweet_id: string, is_retweet: string, retweet_author_id: string, tokens: array<string>]"
            ]
          },
          "execution_count": 14,
          "metadata": {},
          "output_type": "execute_result"
        }
      ],
      "source": [
        "# Initialize the Tokenizer\n",
        "tokenizer = Tokenizer(inputCol=\"text\", outputCol=\"tokens\")\n",
        "tokenized_data = tokenizer.transform(cleaned_data)\n",
        "\n",
        "tokenized_data.select(\"text\",\"tokens\").show(truncate=False)\n",
        "tokenized_data"
      ]
    },
    {
      "cell_type": "code",
      "execution_count": 11,
      "metadata": {
        "colab": {
          "base_uri": "https://localhost:8080/"
        },
        "id": "Q6cls7EHbXG9",
        "outputId": "08f61326-9c7c-45f5-b2f0-60ed110ba7d2"
      },
      "outputs": [
        {
          "name": "stdout",
          "output_type": "stream",
          "text": [
            "+--------------------------------------------------------------------------------------------------------------------------------------------------+\n",
            "|filtered_tokens                                                                                                                                   |\n",
            "+--------------------------------------------------------------------------------------------------------------------------------------------------+\n",
            "|[louannedlh, il, pris, photos, filles, voiles, , fac, mis, twitter, dire, non, , ce, genre, daccoutrement, mais, il]                              |\n",
            "|[franckmonasse, fabien, roussel, invit, france24, rfi, httpstcosv7c8ffovk, via, youtube]                                                          |\n",
            "|[gartondeau, vous, vous, rendez, compte, si, mlenchon, ne, subissait, pas, cette, haine, constante, hystrique, toutes, part, fi, ce, ser]         |\n",
            "|[louannedlh, il, pris, photos, filles, voiles, , fac, mis, twitter, dire, non, , ce, genre, daccoutrement, mais, il]                              |\n",
            "|[louannedlh, il, pris, photos, filles, voiles, , fac, mis, twitter, dire, non, , ce, genre, daccoutrement, mais, il]                              |\n",
            "|[fredibern, philippemurer, vpecresse, vent, tourne, vous, commencez, , retropedaler, il, fallait, appeler, votre, groupe, snat, ma]               |\n",
            "|[gewoessner, update, teamzemmour, , benjamin, cauchy, gilbert, collard, antoine, diers, jeanyves, gallou, jean, messiha, vijay, mona]             |\n",
            "|[louannedlh, il, pris, photos, filles, voiles, , fac, mis, twitter, dire, non, , ce, genre, daccoutrement, mais, il]                              |\n",
            "|[louannedlh, il, pris, photos, filles, voiles, , fac, mis, twitter, dire, non, , ce, genre, daccoutrement, mais, il]                              |\n",
            "|[escmk, salut, victor, comment, se, faitil, quen, tant, juriste, droit, social, tu, parles, licenciement, alors, tu, tais, en, cdd, , co]         |\n",
            "|[zemmoureric, aprs, avoir, voulu, jouer, au, politicien, cynique, avec, covid, emmanuel, macron, est, dsormais, dans, laffolement, total, sa, str]|\n",
            "|[rldilamy, un, aprs, lannonce, du, planquantique, par, emmanuelmacron, macron, laction, plus, importante, est, validation, du, program]           |\n",
            "|[louannedlh, il, pris, photos, filles, voiles, , fac, mis, twitter, dire, non, , ce, genre, daccoutrement, mais, il]                              |\n",
            "|[louannedlh, il, pris, photos, filles, voiles, , fac, mis, twitter, dire, non, , ce, genre, daccoutrement, mais, il]                              |\n",
            "|[stevenkenzal, lenine13, fabienroussel, pcf, je, parlais, lits, dhopitaux, tout, merdier, gouvernement, nous, laiss]                              |\n",
            "|[681950c1o9, problme, emmanuelmacron, vous, navez, pas, lumire, allume, , tout, tages, vous, mentez, depuis, dbutpassvacinal]                     |\n",
            "|[yannoujr10, ptdrrrr, zehma, il, quitter, linter, pour, aller, , lac, milan]                                                                      |\n",
            "|[maitrepardo, face, au, traitement, discriminatoire, dont, est, victime, zemmoureric, qui, nourrit, soupon, dune, justice, politique, ses, av]    |\n",
            "|[damienrieu, jai, pris, dcision, rejoindre, , mon, tour, campagne, zemmoureric, pour, mener, avec, lui, reconquete2022, , , http]                 |\n",
            "|[louannedlh, il, pris, photos, filles, voiles, , fac, mis, twitter, dire, non, , ce, genre, daccoutrement, mais, il]                              |\n",
            "+--------------------------------------------------------------------------------------------------------------------------------------------------+\n",
            "only showing top 20 rows\n",
            "\n"
          ]
        }
      ],
      "source": [
        "# Initialize the StopWordsRemover\n",
        "remover = StopWordsRemover(inputCol=\"tokens\", outputCol=\"filtered_tokens\", stopWords=[\"rt\", \"pr\", \"des\", \"de\", \"et\", \"sur\", \"le\", \"les\", \"la\", \"que\", \"you\", \"a\", \"and\", \"his\", \"for\", \"from\", \"it\", \"in\", \"with\", \"an\", \"on\", \"are\", \"as\", \"at\", \"be\", \"by\", \"com\", \"if\", \"into\", \"like\", \"than\", \"this\", \"but\", \"his\", \"her\", \"she\", \"or\", \"if\", \"was\", \"were\", \"be\", \"have\", \"has\", \"had\", \"having\", \"will\", \"would\", \"can\", \"can't\", \"could\", \"shall\", \"should\", \"ought\", \"i\", \"i'd\", \"i'll\", \"i'm\", \"i've\", \"is\", \"it's\", \"you're\", \"you've\", \"yours\", \"he's\", \"she's\", \"there's\", \"where's\", \"it's\", \"that's\", \"when's\", \"how's\", \"why's\", \"all\", \"any\", \"each\", \"few\", \"more\", \"most\", \"other\", \"some\", \"such\", \"no\", \"nor\", \"not\", \"only\", \"own\", \"other\", \"so\", \"than\", \"too\", \"very\", \"can\", \"will\", \"just\"])\n",
        "filtered_data = remover.transform(tokenized_data)\n",
        "\n",
        "filtered_data.select(\"filtered_tokens\").show(truncate=False)"
      ]
    },
    {
      "cell_type": "markdown",
      "metadata": {},
      "source": [
        "## Model training and sentimental analysis"
      ]
    },
    {
      "cell_type": "code",
      "execution_count": 15,
      "metadata": {
        "colab": {
          "base_uri": "https://localhost:8080/"
        },
        "id": "O6lTKonBTn8G",
        "outputId": "09c4a41d-7935-4dc8-ec9e-f872ed082b37"
      },
      "outputs": [
        {
          "name": "stdout",
          "output_type": "stream",
          "text": [
            "+--------------------+--------------------+----------+--------------------+--------------------+--------------------+--------+\n",
            "|                text|          retweet_id|is_retweet|   retweet_author_id|              tokens|     filtered_tokens|  result|\n",
            "+--------------------+--------------------+----------+--------------------+--------------------+--------------------+--------+\n",
            "|RT louannedlh il ...|1.484613467491479...|      True|        2191604457.0|[rt, louannedlh, ...|[louannedlh, il, ...|Negative|\n",
            "|RT FranckMonasse ...|1.484510655310876...|      True|1.223264769941147...|[rt, franckmonass...|[franckmonasse, f...| Neutral|\n",
            "|RT Gartondeau Vou...|1.484573055473102...|      True|8.130675321732506...|[rt, gartondeau, ...|[gartondeau, vous...| Neutral|\n",
            "|RT louannedlh il ...|1.484613467491479...|      True|        2191604457.0|[rt, louannedlh, ...|[louannedlh, il, ...|Negative|\n",
            "|RT louannedlh il ...|1.484613467491479...|      True|        2191604457.0|[rt, louannedlh, ...|[louannedlh, il, ...|Negative|\n",
            "|RT FrediBern Phil...|1.483106407423647...|      True|1.323369805227974...|[rt, fredibern, p...|[fredibern, phili...| Neutral|\n",
            "|RT GeWoessner Upd...|1.484629320115097...|      True|         122253091.0|[rt, gewoessner, ...|[gewoessner, upda...| Neutral|\n",
            "|RT louannedlh il ...|1.484613467491479...|      True|        2191604457.0|[rt, louannedlh, ...|[louannedlh, il, ...|Negative|\n",
            "|RT louannedlh il ...|1.484613467491479...|      True|        2191604457.0|[rt, louannedlh, ...|[louannedlh, il, ...|Negative|\n",
            "|RT escmk Salut Vi...|1.484651078801145...|      True|1.144574167481757...|[rt, escmk, salut...|[escmk, salut, vi...| Neutral|\n",
            "|RT ZemmourEric Ap...|1.484480668096684...|      True|1.183418538285027...|[rt, zemmoureric,...|[zemmoureric, apr...| Neutral|\n",
            "|RT RLDILamy Un an...|1.484673884670546...|      True|         297316043.0|[rt, rldilamy, un...|[rldilamy, un, ap...| Neutral|\n",
            "|RT louannedlh il ...|1.484613467491479...|      True|        2191604457.0|[rt, louannedlh, ...|[louannedlh, il, ...|Negative|\n",
            "|RT louannedlh il ...|1.484613467491479...|      True|        2191604457.0|[rt, louannedlh, ...|[louannedlh, il, ...|Negative|\n",
            "|RT StevenKenzal L...|1.484613140063174...|      True|1.418812611068584...|[rt, stevenkenzal...|[stevenkenzal, le...|Negative|\n",
            "|RT 681950c1o9 Le ...|1.484618906903982...|      True|1.474806886520299...|[rt, 681950c1o9, ...|[681950c1o9, prob...|Negative|\n",
            "|RT yannoujr10 Ptd...|1.484536504693268...|      True|8.223573124635853...|[rt, yannoujr10, ...|[yannoujr10, ptdr...| Neutral|\n",
            "|RT maitrepardo Fa...|1.484229721906987...|      True|8.365336315815813...|[rt, maitrepardo,...|[maitrepardo, fac...|Positive|\n",
            "|RT DamienRieu Jai...|1.484133852780105...|      True|         978184280.0|[rt, damienrieu, ...|[damienrieu, jai,...| Neutral|\n",
            "|RT louannedlh il ...|1.484613467491479...|      True|        2191604457.0|[rt, louannedlh, ...|[louannedlh, il, ...|Negative|\n",
            "+--------------------+--------------------+----------+--------------------+--------------------+--------------------+--------+\n",
            "only showing top 20 rows\n",
            "\n"
          ]
        }
      ],
      "source": [
        "def setup_nltk():\n",
        "    nltk.download('vader_lexicon', quiet=True)\n",
        "\n",
        "\n",
        "\n",
        "setup_nltk()\n",
        "\n",
        "def nltk_sentiment(text):\n",
        "    if text:\n",
        "      sia = SentimentIntensityAnalyzer()\n",
        "      sentiment_score = sia.polarity_scores(text)['compound']\n",
        "      if sentiment_score>0:\n",
        "        return \"Positive\"\n",
        "      elif sentiment_score<0:\n",
        "        return \"Negative\"\n",
        "      else:\n",
        "        return \"Neutral\"\n",
        "\n",
        "\n",
        "# Register the UDF\n",
        "sentiment_udf = udf(nltk_sentiment, StringType())\n",
        "result_df = filtered_data.withColumn(\"result\", sentiment_udf(col(\"text\")))\n",
        "result_df.show()"
      ]
    },
    {
      "cell_type": "code",
      "execution_count": 39,
      "metadata": {
        "colab": {
          "base_uri": "https://localhost:8080/"
        },
        "id": "4wdkeFCKt1VH",
        "outputId": "0bdff979-8db7-4b1c-ec0a-d0716bbdc4f4"
      },
      "outputs": [
        {
          "name": "stdout",
          "output_type": "stream",
          "text": [
            "+--------------------+--------------------+----------+--------------------+--------------------+--------------------+--------+--------------+\n",
            "|                text|          retweet_id|is_retweet|   retweet_author_id|              tokens|     filtered_tokens|  result|result_numeric|\n",
            "+--------------------+--------------------+----------+--------------------+--------------------+--------------------+--------+--------------+\n",
            "|RT louannedlh il ...|1.484613467491479...|      True|        2191604457.0|[rt, louannedlh, ...|[louannedlh, il, ...|Negative|             2|\n",
            "|RT FranckMonasse ...|1.484510655310876...|      True|1.223264769941147...|[rt, franckmonass...|[franckmonasse, f...| Neutral|             0|\n",
            "|RT Gartondeau Vou...|1.484573055473102...|      True|8.130675321732506...|[rt, gartondeau, ...|[gartondeau, vous...| Neutral|             0|\n",
            "|RT louannedlh il ...|1.484613467491479...|      True|        2191604457.0|[rt, louannedlh, ...|[louannedlh, il, ...|Negative|             2|\n",
            "|RT louannedlh il ...|1.484613467491479...|      True|        2191604457.0|[rt, louannedlh, ...|[louannedlh, il, ...|Negative|             2|\n",
            "|RT FrediBern Phil...|1.483106407423647...|      True|1.323369805227974...|[rt, fredibern, p...|[fredibern, phili...| Neutral|             0|\n",
            "|RT GeWoessner Upd...|1.484629320115097...|      True|         122253091.0|[rt, gewoessner, ...|[gewoessner, upda...| Neutral|             0|\n",
            "|RT louannedlh il ...|1.484613467491479...|      True|        2191604457.0|[rt, louannedlh, ...|[louannedlh, il, ...|Negative|             2|\n",
            "|RT louannedlh il ...|1.484613467491479...|      True|        2191604457.0|[rt, louannedlh, ...|[louannedlh, il, ...|Negative|             2|\n",
            "|RT escmk Salut Vi...|1.484651078801145...|      True|1.144574167481757...|[rt, escmk, salut...|[escmk, salut, vi...| Neutral|             0|\n",
            "|RT ZemmourEric Ap...|1.484480668096684...|      True|1.183418538285027...|[rt, zemmoureric,...|[zemmoureric, apr...| Neutral|             0|\n",
            "|RT RLDILamy Un an...|1.484673884670546...|      True|         297316043.0|[rt, rldilamy, un...|[rldilamy, un, ap...| Neutral|             0|\n",
            "|RT louannedlh il ...|1.484613467491479...|      True|        2191604457.0|[rt, louannedlh, ...|[louannedlh, il, ...|Negative|             2|\n",
            "|RT louannedlh il ...|1.484613467491479...|      True|        2191604457.0|[rt, louannedlh, ...|[louannedlh, il, ...|Negative|             2|\n",
            "|RT StevenKenzal L...|1.484613140063174...|      True|1.418812611068584...|[rt, stevenkenzal...|[stevenkenzal, le...|Negative|             2|\n",
            "|RT 681950c1o9 Le ...|1.484618906903982...|      True|1.474806886520299...|[rt, 681950c1o9, ...|[681950c1o9, prob...|Negative|             2|\n",
            "|RT yannoujr10 Ptd...|1.484536504693268...|      True|8.223573124635853...|[rt, yannoujr10, ...|[yannoujr10, ptdr...| Neutral|             0|\n",
            "|RT maitrepardo Fa...|1.484229721906987...|      True|8.365336315815813...|[rt, maitrepardo,...|[maitrepardo, fac...|Positive|             1|\n",
            "|RT DamienRieu Jai...|1.484133852780105...|      True|         978184280.0|[rt, damienrieu, ...|[damienrieu, jai,...| Neutral|             0|\n",
            "|RT louannedlh il ...|1.484613467491479...|      True|        2191604457.0|[rt, louannedlh, ...|[louannedlh, il, ...|Negative|             2|\n",
            "+--------------------+--------------------+----------+--------------------+--------------------+--------------------+--------+--------------+\n",
            "only showing top 20 rows\n",
            "\n"
          ]
        }
      ],
      "source": [
        "# Replace the string values with numerical values\n",
        "result_df = result_df.withColumn(\n",
        "    \"result_numeric\",\n",
        "    F.when(F.col(\"result\") == \"Positive\", 1)\n",
        "    .when(F.col(\"result\") == \"Negative\", 2)\n",
        "    .when(F.col(\"result\") == \"Neutral\", 0)\n",
        "    .otherwise(None)\n",
        ")\n",
        "result_df.show()"
      ]
    },
    {
      "cell_type": "code",
      "execution_count": 40,
      "metadata": {
        "id": "jtLGCIzh7iLp"
      },
      "outputs": [],
      "source": [
        "# Encode sentiment labels\n",
        "label_indexer = StringIndexer(inputCol=\"result\", outputCol=\"label\")\n",
        "df = label_indexer.fit(result_df).transform(result_df)\n",
        "#df.show()"
      ]
    },
    {
      "cell_type": "code",
      "execution_count": 25,
      "metadata": {
        "id": "sloVUQVn718e"
      },
      "outputs": [],
      "source": [
        "# Preprocess data\n",
        "#tokenizer = RegexTokenizer(inputCol=\"text\", outputCol=\"words\", pattern=\"\\s+\")\n",
        "# stopwords_remover = StopWordsRemover(inputCol=\"tokens\", outputCol=\"filtered_words\")\n",
        "# #stopwords_remover\n"
      ]
    },
    {
      "cell_type": "code",
      "execution_count": 41,
      "metadata": {
        "id": "kNGziIvb622C"
      },
      "outputs": [],
      "source": [
        "hashing_tf = HashingTF(inputCol=\"tokens\", outputCol=\"raw_features\")\n",
        "idf = IDF(inputCol=\"raw_features\", outputCol=\"features\")\n",
        "# Split dataset\n",
        "train_data, test_data = df.randomSplit([0.8, 0.2], seed=123)\n",
        "\n",
        "\n"
      ]
    },
    {
      "cell_type": "code",
      "execution_count": 42,
      "metadata": {
        "id": "u0MGXOtz62yG"
      },
      "outputs": [],
      "source": [
        "# Train Logistic Regression model\n",
        "lr = LogisticRegression(labelCol=\"label\", featuresCol=\"features\", maxIter=10)\n",
        "lr_pipeline = Pipeline(stages=[hashing_tf, idf, lr])\n",
        "lr_model = lr_pipeline.fit(train_data)"
      ]
    },
    {
      "cell_type": "code",
      "execution_count": 43,
      "metadata": {
        "colab": {
          "base_uri": "https://localhost:8080/"
        },
        "id": "LlCLXNBj-LWq",
        "outputId": "d2bc50ef-ae67-444c-fb9b-930310fc9a33"
      },
      "outputs": [
        {
          "name": "stdout",
          "output_type": "stream",
          "text": [
            "+--------------------+--------------+----------+\n",
            "|                text|result_numeric|prediction|\n",
            "+--------------------+--------------+----------+\n",
            "|                Mari|             0|       0.0|\n",
            "|CNajdovski EricPl...|             0|       0.0|\n",
            "|JLMelenchon Toute...|             2|       1.0|\n",
            "|LCI GilbertCollar...|             0|       0.0|\n",
            "|Moi jtais le Z ja...|             0|       0.0|\n",
            "|RT 107Kesta AnMow...|             0|       0.0|\n",
            "|RT 1966AUSTRIA La...|             0|       0.0|\n",
            "|RT 1966AUSTRIA Le...|             0|       0.0|\n",
            "|RT 1966AUSTRIA Ma...|             0|       0.0|\n",
            "|RT 1be1ul Dcision...|             0|       0.0|\n",
            "|RT 2022Elections ...|             0|       0.0|\n",
            "|RT 2022Elections ...|             0|       0.0|\n",
            "|RT 2022Elections ...|             0|       0.0|\n",
            "|RT 2022Elections ...|             0|       0.0|\n",
            "|RT 2022Elections ...|             0|       0.0|\n",
            "|RT 21azwarr Ferme...|             0|       0.0|\n",
            "|RT 67pfr He pulls...|             2|       1.0|\n",
            "|RT 67pfr He pulls...|             2|       1.0|\n",
            "|RT 6kmln9 Tas t v...|             0|       0.0|\n",
            "|RT 6kmln9 Tas t v...|             0|       0.0|\n",
            "+--------------------+--------------+----------+\n",
            "only showing top 20 rows\n",
            "\n"
          ]
        }
      ],
      "source": [
        "predictions = lr_model.transform(train_data)\n",
        "predictions.select(\"text\", \"result_numeric\", \"prediction\").show()\n",
        "\n",
        "predictions = predictions.withColumn(\"result_numeric\", col(\"result_numeric\").cast(\"double\"))\n",
        "\n",
        "\n"
      ]
    },
    {
      "cell_type": "code",
      "execution_count": 44,
      "metadata": {
        "colab": {
          "base_uri": "https://localhost:8080/"
        },
        "id": "2behV5vO-NTn",
        "outputId": "e59abd85-9e73-425c-b850-f2cdba6bf345"
      },
      "outputs": [
        {
          "name": "stdout",
          "output_type": "stream",
          "text": [
            "Accuracy: 0.6447494414299394\n",
            "Precision: 0.6447494414299394\n",
            "Recall: 0.6447494414299394\n",
            "F1-score: 0.6447494414299394\n"
          ]
        }
      ],
      "source": [
        "evaluator = MulticlassClassificationEvaluator(predictionCol=\"prediction\", labelCol=\"result_numeric\")\n",
        "accuracy = evaluator.evaluate(predictions, {evaluator.metricName: \"accuracy\"})\n",
        "precision = evaluator.evaluate(predictions, {evaluator.metricName: \"weightedPrecision\"})\n",
        "recall = evaluator.evaluate(predictions, {evaluator.metricName: \"weightedRecall\"})\n",
        "f1_score = evaluator.evaluate(predictions, {evaluator.metricName: \"f1\"})\n",
        "\n",
        "print(\"Accuracy:\", accuracy)\n",
        "print(\"Precision:\", precision)\n",
        "print(\"Recall:\", recall)\n",
        "print(\"F1-score:\", f1_score)"
      ]
    },
    {
      "cell_type": "code",
      "execution_count": 45,
      "metadata": {
        "colab": {
          "base_uri": "https://localhost:8080/"
        },
        "id": "mZQvkvL1zhrF",
        "outputId": "ca34c03c-7543-4610-d891-25bc7bd99011"
      },
      "outputs": [
        {
          "name": "stdout",
          "output_type": "stream",
          "text": [
            "+--------------------+--------------------+----------+--------------------+--------------------+--------------------+--------+--------------+-----+\n",
            "|                text|          retweet_id|is_retweet|   retweet_author_id|              tokens|     filtered_tokens|  result|result_numeric|label|\n",
            "+--------------------+--------------------+----------+--------------------+--------------------+--------------------+--------+--------------+-----+\n",
            "|RT louannedlh il ...|1.484613467491479...|      True|        2191604457.0|[rt, louannedlh, ...|[louannedlh, il, ...|Negative|             2|  1.0|\n",
            "|RT FranckMonasse ...|1.484510655310876...|      True|1.223264769941147...|[rt, franckmonass...|[franckmonasse, f...| Neutral|             0|  0.0|\n",
            "|RT Gartondeau Vou...|1.484573055473102...|      True|8.130675321732506...|[rt, gartondeau, ...|[gartondeau, vous...| Neutral|             0|  0.0|\n",
            "|RT louannedlh il ...|1.484613467491479...|      True|        2191604457.0|[rt, louannedlh, ...|[louannedlh, il, ...|Negative|             2|  1.0|\n",
            "|RT louannedlh il ...|1.484613467491479...|      True|        2191604457.0|[rt, louannedlh, ...|[louannedlh, il, ...|Negative|             2|  1.0|\n",
            "|RT FrediBern Phil...|1.483106407423647...|      True|1.323369805227974...|[rt, fredibern, p...|[fredibern, phili...| Neutral|             0|  0.0|\n",
            "|RT GeWoessner Upd...|1.484629320115097...|      True|         122253091.0|[rt, gewoessner, ...|[gewoessner, upda...| Neutral|             0|  0.0|\n",
            "|RT louannedlh il ...|1.484613467491479...|      True|        2191604457.0|[rt, louannedlh, ...|[louannedlh, il, ...|Negative|             2|  1.0|\n",
            "|RT louannedlh il ...|1.484613467491479...|      True|        2191604457.0|[rt, louannedlh, ...|[louannedlh, il, ...|Negative|             2|  1.0|\n",
            "|RT escmk Salut Vi...|1.484651078801145...|      True|1.144574167481757...|[rt, escmk, salut...|[escmk, salut, vi...| Neutral|             0|  0.0|\n",
            "|RT ZemmourEric Ap...|1.484480668096684...|      True|1.183418538285027...|[rt, zemmoureric,...|[zemmoureric, apr...| Neutral|             0|  0.0|\n",
            "|RT RLDILamy Un an...|1.484673884670546...|      True|         297316043.0|[rt, rldilamy, un...|[rldilamy, un, ap...| Neutral|             0|  0.0|\n",
            "|RT louannedlh il ...|1.484613467491479...|      True|        2191604457.0|[rt, louannedlh, ...|[louannedlh, il, ...|Negative|             2|  1.0|\n",
            "|RT louannedlh il ...|1.484613467491479...|      True|        2191604457.0|[rt, louannedlh, ...|[louannedlh, il, ...|Negative|             2|  1.0|\n",
            "|RT StevenKenzal L...|1.484613140063174...|      True|1.418812611068584...|[rt, stevenkenzal...|[stevenkenzal, le...|Negative|             2|  1.0|\n",
            "|RT 681950c1o9 Le ...|1.484618906903982...|      True|1.474806886520299...|[rt, 681950c1o9, ...|[681950c1o9, prob...|Negative|             2|  1.0|\n",
            "|RT yannoujr10 Ptd...|1.484536504693268...|      True|8.223573124635853...|[rt, yannoujr10, ...|[yannoujr10, ptdr...| Neutral|             0|  0.0|\n",
            "|RT maitrepardo Fa...|1.484229721906987...|      True|8.365336315815813...|[rt, maitrepardo,...|[maitrepardo, fac...|Positive|             1|  2.0|\n",
            "|RT DamienRieu Jai...|1.484133852780105...|      True|         978184280.0|[rt, damienrieu, ...|[damienrieu, jai,...| Neutral|             0|  0.0|\n",
            "|RT louannedlh il ...|1.484613467491479...|      True|        2191604457.0|[rt, louannedlh, ...|[louannedlh, il, ...|Negative|             2|  1.0|\n",
            "+--------------------+--------------------+----------+--------------------+--------------------+--------------------+--------+--------------+-----+\n",
            "only showing top 20 rows\n",
            "\n",
            "+-----+-----+\n",
            "|label|count|\n",
            "+-----+-----+\n",
            "|  0.0| 2509|\n",
            "|  1.0| 1077|\n",
            "|  2.0|  317|\n",
            "+-----+-----+\n",
            "\n"
          ]
        }
      ],
      "source": [
        "# Distribution of sentiments\n",
        "sentiment_distribution = df.groupBy(\"label\").count().orderBy(\"label\")\n",
        "df.show()\n",
        "sentiment_distribution.show()"
      ]
    },
    {
      "cell_type": "markdown",
      "metadata": {},
      "source": [
        "## EDA"
      ]
    },
    {
      "cell_type": "code",
      "execution_count": 46,
      "metadata": {
        "colab": {
          "base_uri": "https://localhost:8080/"
        },
        "id": "FTNZmFmM8d6v",
        "outputId": "a65247d0-3127-4145-c259-b4ec01a3a869"
      },
      "outputs": [
        {
          "name": "stdout",
          "output_type": "stream",
          "text": [
            "+-------+-----+\n",
            "|keyword|count|\n",
            "+-------+-----+\n",
            "|     RT| 3863|\n",
            "|     de| 2475|\n",
            "|      a| 2269|\n",
            "|     il| 1918|\n",
            "|     la| 1741|\n",
            "|     et| 1564|\n",
            "|    les| 1410|\n",
            "|    des| 1245|\n",
            "|     ce| 1048|\n",
            "|     le|  991|\n",
            "+-------+-----+\n",
            "\n"
          ]
        }
      ],
      "source": [
        "\n",
        "words_df = df.select(explode(split(col(\"text\"), \"\\\\s+\")).alias(\"keyword\"))\n",
        "\n",
        "\n",
        "top_keywords = words_df.groupBy(\"keyword\").count().orderBy(\"count\", ascending=False).limit(10)\n",
        "top_keywords.show()\n"
      ]
    },
    {
      "cell_type": "code",
      "execution_count": 47,
      "metadata": {
        "colab": {
          "base_uri": "https://localhost:8080/"
        },
        "id": "sVOiVpzJ8jdI",
        "outputId": "eeb5101e-0f7a-40f5-d918-e1d96175e128"
      },
      "outputs": [
        {
          "name": "stdout",
          "output_type": "stream",
          "text": [
            "+--------------------+---------------------------+\n",
            "| avg_retweetID_count|avg_retweet_author_id_count|\n",
            "+--------------------+---------------------------+\n",
            "|1.477625211650345...|       4.910818265020634...|\n",
            "+--------------------+---------------------------+\n",
            "\n"
          ]
        }
      ],
      "source": [
        "from pyspark.sql.functions import avg\n",
        "import pandas as pd\n",
        "import plotly.graph_objects as go\n",
        "\n",
        "\n",
        "user_engagement_metrics = df.select(\n",
        "    avg(\"retweet_id\").alias(\"avg_retweetID_count\"),\n",
        "    avg(\"retweet_author_id\").alias(\"avg_retweet_author_id_count\"),\n",
        ")\n",
        "user_engagement_metrics.show()"
      ]
    },
    {
      "cell_type": "code",
      "execution_count": 48,
      "metadata": {
        "colab": {
          "base_uri": "https://localhost:8080/",
          "height": 542
        },
        "id": "Clmt56Q7feG_",
        "outputId": "cc671e09-978d-4d0e-fbe8-51bd203d48f4"
      },
      "outputs": [
        {
          "data": {
            "text/html": [
              "<html>\n",
              "<head><meta charset=\"utf-8\" /></head>\n",
              "<body>\n",
              "    <div>            <script src=\"https://cdnjs.cloudflare.com/ajax/libs/mathjax/2.7.5/MathJax.js?config=TeX-AMS-MML_SVG\"></script><script type=\"text/javascript\">if (window.MathJax && window.MathJax.Hub && window.MathJax.Hub.Config) {window.MathJax.Hub.Config({SVG: {font: \"STIX-Web\"}});}</script>                <script type=\"text/javascript\">window.PlotlyConfig = {MathJaxConfig: 'local'};</script>\n",
              "        <script charset=\"utf-8\" src=\"https://cdn.plot.ly/plotly-2.24.1.min.js\"></script>                <div id=\"3e4d1194-c0c4-489a-ba61-c89e63a9f2c3\" class=\"plotly-graph-div\" style=\"height:525px; width:100%;\"></div>            <script type=\"text/javascript\">                                    window.PLOTLYENV=window.PLOTLYENV || {};                                    if (document.getElementById(\"3e4d1194-c0c4-489a-ba61-c89e63a9f2c3\")) {                    Plotly.newPlot(                        \"3e4d1194-c0c4-489a-ba61-c89e63a9f2c3\",                        [{\"hole\":0.3,\"labels\":[0.0,1.0,2.0],\"values\":[2509,1077,317],\"type\":\"pie\"}],                        {\"template\":{\"data\":{\"histogram2dcontour\":[{\"type\":\"histogram2dcontour\",\"colorbar\":{\"outlinewidth\":0,\"ticks\":\"\"},\"colorscale\":[[0.0,\"#0d0887\"],[0.1111111111111111,\"#46039f\"],[0.2222222222222222,\"#7201a8\"],[0.3333333333333333,\"#9c179e\"],[0.4444444444444444,\"#bd3786\"],[0.5555555555555556,\"#d8576b\"],[0.6666666666666666,\"#ed7953\"],[0.7777777777777778,\"#fb9f3a\"],[0.8888888888888888,\"#fdca26\"],[1.0,\"#f0f921\"]]}],\"choropleth\":[{\"type\":\"choropleth\",\"colorbar\":{\"outlinewidth\":0,\"ticks\":\"\"}}],\"histogram2d\":[{\"type\":\"histogram2d\",\"colorbar\":{\"outlinewidth\":0,\"ticks\":\"\"},\"colorscale\":[[0.0,\"#0d0887\"],[0.1111111111111111,\"#46039f\"],[0.2222222222222222,\"#7201a8\"],[0.3333333333333333,\"#9c179e\"],[0.4444444444444444,\"#bd3786\"],[0.5555555555555556,\"#d8576b\"],[0.6666666666666666,\"#ed7953\"],[0.7777777777777778,\"#fb9f3a\"],[0.8888888888888888,\"#fdca26\"],[1.0,\"#f0f921\"]]}],\"heatmap\":[{\"type\":\"heatmap\",\"colorbar\":{\"outlinewidth\":0,\"ticks\":\"\"},\"colorscale\":[[0.0,\"#0d0887\"],[0.1111111111111111,\"#46039f\"],[0.2222222222222222,\"#7201a8\"],[0.3333333333333333,\"#9c179e\"],[0.4444444444444444,\"#bd3786\"],[0.5555555555555556,\"#d8576b\"],[0.6666666666666666,\"#ed7953\"],[0.7777777777777778,\"#fb9f3a\"],[0.8888888888888888,\"#fdca26\"],[1.0,\"#f0f921\"]]}],\"heatmapgl\":[{\"type\":\"heatmapgl\",\"colorbar\":{\"outlinewidth\":0,\"ticks\":\"\"},\"colorscale\":[[0.0,\"#0d0887\"],[0.1111111111111111,\"#46039f\"],[0.2222222222222222,\"#7201a8\"],[0.3333333333333333,\"#9c179e\"],[0.4444444444444444,\"#bd3786\"],[0.5555555555555556,\"#d8576b\"],[0.6666666666666666,\"#ed7953\"],[0.7777777777777778,\"#fb9f3a\"],[0.8888888888888888,\"#fdca26\"],[1.0,\"#f0f921\"]]}],\"contourcarpet\":[{\"type\":\"contourcarpet\",\"colorbar\":{\"outlinewidth\":0,\"ticks\":\"\"}}],\"contour\":[{\"type\":\"contour\",\"colorbar\":{\"outlinewidth\":0,\"ticks\":\"\"},\"colorscale\":[[0.0,\"#0d0887\"],[0.1111111111111111,\"#46039f\"],[0.2222222222222222,\"#7201a8\"],[0.3333333333333333,\"#9c179e\"],[0.4444444444444444,\"#bd3786\"],[0.5555555555555556,\"#d8576b\"],[0.6666666666666666,\"#ed7953\"],[0.7777777777777778,\"#fb9f3a\"],[0.8888888888888888,\"#fdca26\"],[1.0,\"#f0f921\"]]}],\"surface\":[{\"type\":\"surface\",\"colorbar\":{\"outlinewidth\":0,\"ticks\":\"\"},\"colorscale\":[[0.0,\"#0d0887\"],[0.1111111111111111,\"#46039f\"],[0.2222222222222222,\"#7201a8\"],[0.3333333333333333,\"#9c179e\"],[0.4444444444444444,\"#bd3786\"],[0.5555555555555556,\"#d8576b\"],[0.6666666666666666,\"#ed7953\"],[0.7777777777777778,\"#fb9f3a\"],[0.8888888888888888,\"#fdca26\"],[1.0,\"#f0f921\"]]}],\"mesh3d\":[{\"type\":\"mesh3d\",\"colorbar\":{\"outlinewidth\":0,\"ticks\":\"\"}}],\"scatter\":[{\"fillpattern\":{\"fillmode\":\"overlay\",\"size\":10,\"solidity\":0.2},\"type\":\"scatter\"}],\"parcoords\":[{\"type\":\"parcoords\",\"line\":{\"colorbar\":{\"outlinewidth\":0,\"ticks\":\"\"}}}],\"scatterpolargl\":[{\"type\":\"scatterpolargl\",\"marker\":{\"colorbar\":{\"outlinewidth\":0,\"ticks\":\"\"}}}],\"bar\":[{\"error_x\":{\"color\":\"#2a3f5f\"},\"error_y\":{\"color\":\"#2a3f5f\"},\"marker\":{\"line\":{\"color\":\"#E5ECF6\",\"width\":0.5},\"pattern\":{\"fillmode\":\"overlay\",\"size\":10,\"solidity\":0.2}},\"type\":\"bar\"}],\"scattergeo\":[{\"type\":\"scattergeo\",\"marker\":{\"colorbar\":{\"outlinewidth\":0,\"ticks\":\"\"}}}],\"scatterpolar\":[{\"type\":\"scatterpolar\",\"marker\":{\"colorbar\":{\"outlinewidth\":0,\"ticks\":\"\"}}}],\"histogram\":[{\"marker\":{\"pattern\":{\"fillmode\":\"overlay\",\"size\":10,\"solidity\":0.2}},\"type\":\"histogram\"}],\"scattergl\":[{\"type\":\"scattergl\",\"marker\":{\"colorbar\":{\"outlinewidth\":0,\"ticks\":\"\"}}}],\"scatter3d\":[{\"type\":\"scatter3d\",\"line\":{\"colorbar\":{\"outlinewidth\":0,\"ticks\":\"\"}},\"marker\":{\"colorbar\":{\"outlinewidth\":0,\"ticks\":\"\"}}}],\"scattermapbox\":[{\"type\":\"scattermapbox\",\"marker\":{\"colorbar\":{\"outlinewidth\":0,\"ticks\":\"\"}}}],\"scatterternary\":[{\"type\":\"scatterternary\",\"marker\":{\"colorbar\":{\"outlinewidth\":0,\"ticks\":\"\"}}}],\"scattercarpet\":[{\"type\":\"scattercarpet\",\"marker\":{\"colorbar\":{\"outlinewidth\":0,\"ticks\":\"\"}}}],\"carpet\":[{\"aaxis\":{\"endlinecolor\":\"#2a3f5f\",\"gridcolor\":\"white\",\"linecolor\":\"white\",\"minorgridcolor\":\"white\",\"startlinecolor\":\"#2a3f5f\"},\"baxis\":{\"endlinecolor\":\"#2a3f5f\",\"gridcolor\":\"white\",\"linecolor\":\"white\",\"minorgridcolor\":\"white\",\"startlinecolor\":\"#2a3f5f\"},\"type\":\"carpet\"}],\"table\":[{\"cells\":{\"fill\":{\"color\":\"#EBF0F8\"},\"line\":{\"color\":\"white\"}},\"header\":{\"fill\":{\"color\":\"#C8D4E3\"},\"line\":{\"color\":\"white\"}},\"type\":\"table\"}],\"barpolar\":[{\"marker\":{\"line\":{\"color\":\"#E5ECF6\",\"width\":0.5},\"pattern\":{\"fillmode\":\"overlay\",\"size\":10,\"solidity\":0.2}},\"type\":\"barpolar\"}],\"pie\":[{\"automargin\":true,\"type\":\"pie\"}]},\"layout\":{\"autotypenumbers\":\"strict\",\"colorway\":[\"#636efa\",\"#EF553B\",\"#00cc96\",\"#ab63fa\",\"#FFA15A\",\"#19d3f3\",\"#FF6692\",\"#B6E880\",\"#FF97FF\",\"#FECB52\"],\"font\":{\"color\":\"#2a3f5f\"},\"hovermode\":\"closest\",\"hoverlabel\":{\"align\":\"left\"},\"paper_bgcolor\":\"white\",\"plot_bgcolor\":\"#E5ECF6\",\"polar\":{\"bgcolor\":\"#E5ECF6\",\"angularaxis\":{\"gridcolor\":\"white\",\"linecolor\":\"white\",\"ticks\":\"\"},\"radialaxis\":{\"gridcolor\":\"white\",\"linecolor\":\"white\",\"ticks\":\"\"}},\"ternary\":{\"bgcolor\":\"#E5ECF6\",\"aaxis\":{\"gridcolor\":\"white\",\"linecolor\":\"white\",\"ticks\":\"\"},\"baxis\":{\"gridcolor\":\"white\",\"linecolor\":\"white\",\"ticks\":\"\"},\"caxis\":{\"gridcolor\":\"white\",\"linecolor\":\"white\",\"ticks\":\"\"}},\"coloraxis\":{\"colorbar\":{\"outlinewidth\":0,\"ticks\":\"\"}},\"colorscale\":{\"sequential\":[[0.0,\"#0d0887\"],[0.1111111111111111,\"#46039f\"],[0.2222222222222222,\"#7201a8\"],[0.3333333333333333,\"#9c179e\"],[0.4444444444444444,\"#bd3786\"],[0.5555555555555556,\"#d8576b\"],[0.6666666666666666,\"#ed7953\"],[0.7777777777777778,\"#fb9f3a\"],[0.8888888888888888,\"#fdca26\"],[1.0,\"#f0f921\"]],\"sequentialminus\":[[0.0,\"#0d0887\"],[0.1111111111111111,\"#46039f\"],[0.2222222222222222,\"#7201a8\"],[0.3333333333333333,\"#9c179e\"],[0.4444444444444444,\"#bd3786\"],[0.5555555555555556,\"#d8576b\"],[0.6666666666666666,\"#ed7953\"],[0.7777777777777778,\"#fb9f3a\"],[0.8888888888888888,\"#fdca26\"],[1.0,\"#f0f921\"]],\"diverging\":[[0,\"#8e0152\"],[0.1,\"#c51b7d\"],[0.2,\"#de77ae\"],[0.3,\"#f1b6da\"],[0.4,\"#fde0ef\"],[0.5,\"#f7f7f7\"],[0.6,\"#e6f5d0\"],[0.7,\"#b8e186\"],[0.8,\"#7fbc41\"],[0.9,\"#4d9221\"],[1,\"#276419\"]]},\"xaxis\":{\"gridcolor\":\"white\",\"linecolor\":\"white\",\"ticks\":\"\",\"title\":{\"standoff\":15},\"zerolinecolor\":\"white\",\"automargin\":true,\"zerolinewidth\":2},\"yaxis\":{\"gridcolor\":\"white\",\"linecolor\":\"white\",\"ticks\":\"\",\"title\":{\"standoff\":15},\"zerolinecolor\":\"white\",\"automargin\":true,\"zerolinewidth\":2},\"scene\":{\"xaxis\":{\"backgroundcolor\":\"#E5ECF6\",\"gridcolor\":\"white\",\"linecolor\":\"white\",\"showbackground\":true,\"ticks\":\"\",\"zerolinecolor\":\"white\",\"gridwidth\":2},\"yaxis\":{\"backgroundcolor\":\"#E5ECF6\",\"gridcolor\":\"white\",\"linecolor\":\"white\",\"showbackground\":true,\"ticks\":\"\",\"zerolinecolor\":\"white\",\"gridwidth\":2},\"zaxis\":{\"backgroundcolor\":\"#E5ECF6\",\"gridcolor\":\"white\",\"linecolor\":\"white\",\"showbackground\":true,\"ticks\":\"\",\"zerolinecolor\":\"white\",\"gridwidth\":2}},\"shapedefaults\":{\"line\":{\"color\":\"#2a3f5f\"}},\"annotationdefaults\":{\"arrowcolor\":\"#2a3f5f\",\"arrowhead\":0,\"arrowwidth\":1},\"geo\":{\"bgcolor\":\"white\",\"landcolor\":\"#E5ECF6\",\"subunitcolor\":\"white\",\"showland\":true,\"showlakes\":true,\"lakecolor\":\"white\"},\"title\":{\"x\":0.05},\"mapbox\":{\"style\":\"light\"}}},\"title\":{\"text\":\"Distribution of Sentiment Scores\",\"x\":0.5},\"annotations\":[{\"showarrow\":false,\"text\":\"Sentiment\",\"x\":0.5,\"y\":0.5,\"font\":{\"size\":20}}]},                        {\"responsive\": true}                    ).then(function(){\n",
              "                            \n",
              "var gd = document.getElementById('3e4d1194-c0c4-489a-ba61-c89e63a9f2c3');\n",
              "var x = new MutationObserver(function (mutations, observer) {{\n",
              "        var display = window.getComputedStyle(gd).display;\n",
              "        if (!display || display === 'none') {{\n",
              "            console.log([gd, 'removed!']);\n",
              "            Plotly.purge(gd);\n",
              "            observer.disconnect();\n",
              "        }}\n",
              "}});\n",
              "\n",
              "// Listen for the removal of the full notebook cells\n",
              "var notebookContainer = gd.closest('#notebook-container');\n",
              "if (notebookContainer) {{\n",
              "    x.observe(notebookContainer, {childList: true});\n",
              "}}\n",
              "\n",
              "// Listen for the clearing of the current output cell\n",
              "var outputEl = gd.closest('.output');\n",
              "if (outputEl) {{\n",
              "    x.observe(outputEl, {childList: true});\n",
              "}}\n",
              "\n",
              "                        })                };                            </script>        </div>\n",
              "</body>\n",
              "</html>"
            ]
          },
          "metadata": {},
          "output_type": "display_data"
        }
      ],
      "source": [
        "\n",
        "sentiment_distribution_pd = sentiment_distribution.toPandas()\n",
        "labels = sentiment_distribution_pd[\"label\"]\n",
        "values = sentiment_distribution_pd[\"count\"]\n",
        "\n",
        "\n",
        "fig = go.Figure(data=[go.Pie(labels=labels, values=values, hole=0.3)])\n",
        "fig.update_layout(\n",
        "    title=\"Distribution of Sentiment Scores\",\n",
        "    title_x=0.5,\n",
        "    annotations=[dict(text='Sentiment', x=0.5, y=0.5, font_size=20, showarrow=False)]\n",
        ")\n",
        "\n",
        "\n",
        "fig.show()"
      ]
    },
    {
      "cell_type": "code",
      "execution_count": 49,
      "metadata": {
        "colab": {
          "base_uri": "https://localhost:8080/",
          "height": 542
        },
        "id": "fb25FtNXf0FA",
        "outputId": "6395fa75-93f7-4650-8faa-d504fa3686ff"
      },
      "outputs": [
        {
          "data": {
            "text/html": [
              "<html>\n",
              "<head><meta charset=\"utf-8\" /></head>\n",
              "<body>\n",
              "    <div>            <script src=\"https://cdnjs.cloudflare.com/ajax/libs/mathjax/2.7.5/MathJax.js?config=TeX-AMS-MML_SVG\"></script><script type=\"text/javascript\">if (window.MathJax && window.MathJax.Hub && window.MathJax.Hub.Config) {window.MathJax.Hub.Config({SVG: {font: \"STIX-Web\"}});}</script>                <script type=\"text/javascript\">window.PlotlyConfig = {MathJaxConfig: 'local'};</script>\n",
              "        <script charset=\"utf-8\" src=\"https://cdn.plot.ly/plotly-2.24.1.min.js\"></script>                <div id=\"8b076b94-3682-48fe-8525-2fd3ec22a3e6\" class=\"plotly-graph-div\" style=\"height:525px; width:100%;\"></div>            <script type=\"text/javascript\">                                    window.PLOTLYENV=window.PLOTLYENV || {};                                    if (document.getElementById(\"8b076b94-3682-48fe-8525-2fd3ec22a3e6\")) {                    Plotly.newPlot(                        \"8b076b94-3682-48fe-8525-2fd3ec22a3e6\",                        [{\"marker\":{\"size\":10},\"mode\":\"lines+markers\",\"x\":[0.0,1.0,2.0],\"y\":[2509,1077,317],\"type\":\"scatter\"}],                        {\"template\":{\"data\":{\"histogram2dcontour\":[{\"type\":\"histogram2dcontour\",\"colorbar\":{\"outlinewidth\":0,\"ticks\":\"\"},\"colorscale\":[[0.0,\"#0d0887\"],[0.1111111111111111,\"#46039f\"],[0.2222222222222222,\"#7201a8\"],[0.3333333333333333,\"#9c179e\"],[0.4444444444444444,\"#bd3786\"],[0.5555555555555556,\"#d8576b\"],[0.6666666666666666,\"#ed7953\"],[0.7777777777777778,\"#fb9f3a\"],[0.8888888888888888,\"#fdca26\"],[1.0,\"#f0f921\"]]}],\"choropleth\":[{\"type\":\"choropleth\",\"colorbar\":{\"outlinewidth\":0,\"ticks\":\"\"}}],\"histogram2d\":[{\"type\":\"histogram2d\",\"colorbar\":{\"outlinewidth\":0,\"ticks\":\"\"},\"colorscale\":[[0.0,\"#0d0887\"],[0.1111111111111111,\"#46039f\"],[0.2222222222222222,\"#7201a8\"],[0.3333333333333333,\"#9c179e\"],[0.4444444444444444,\"#bd3786\"],[0.5555555555555556,\"#d8576b\"],[0.6666666666666666,\"#ed7953\"],[0.7777777777777778,\"#fb9f3a\"],[0.8888888888888888,\"#fdca26\"],[1.0,\"#f0f921\"]]}],\"heatmap\":[{\"type\":\"heatmap\",\"colorbar\":{\"outlinewidth\":0,\"ticks\":\"\"},\"colorscale\":[[0.0,\"#0d0887\"],[0.1111111111111111,\"#46039f\"],[0.2222222222222222,\"#7201a8\"],[0.3333333333333333,\"#9c179e\"],[0.4444444444444444,\"#bd3786\"],[0.5555555555555556,\"#d8576b\"],[0.6666666666666666,\"#ed7953\"],[0.7777777777777778,\"#fb9f3a\"],[0.8888888888888888,\"#fdca26\"],[1.0,\"#f0f921\"]]}],\"heatmapgl\":[{\"type\":\"heatmapgl\",\"colorbar\":{\"outlinewidth\":0,\"ticks\":\"\"},\"colorscale\":[[0.0,\"#0d0887\"],[0.1111111111111111,\"#46039f\"],[0.2222222222222222,\"#7201a8\"],[0.3333333333333333,\"#9c179e\"],[0.4444444444444444,\"#bd3786\"],[0.5555555555555556,\"#d8576b\"],[0.6666666666666666,\"#ed7953\"],[0.7777777777777778,\"#fb9f3a\"],[0.8888888888888888,\"#fdca26\"],[1.0,\"#f0f921\"]]}],\"contourcarpet\":[{\"type\":\"contourcarpet\",\"colorbar\":{\"outlinewidth\":0,\"ticks\":\"\"}}],\"contour\":[{\"type\":\"contour\",\"colorbar\":{\"outlinewidth\":0,\"ticks\":\"\"},\"colorscale\":[[0.0,\"#0d0887\"],[0.1111111111111111,\"#46039f\"],[0.2222222222222222,\"#7201a8\"],[0.3333333333333333,\"#9c179e\"],[0.4444444444444444,\"#bd3786\"],[0.5555555555555556,\"#d8576b\"],[0.6666666666666666,\"#ed7953\"],[0.7777777777777778,\"#fb9f3a\"],[0.8888888888888888,\"#fdca26\"],[1.0,\"#f0f921\"]]}],\"surface\":[{\"type\":\"surface\",\"colorbar\":{\"outlinewidth\":0,\"ticks\":\"\"},\"colorscale\":[[0.0,\"#0d0887\"],[0.1111111111111111,\"#46039f\"],[0.2222222222222222,\"#7201a8\"],[0.3333333333333333,\"#9c179e\"],[0.4444444444444444,\"#bd3786\"],[0.5555555555555556,\"#d8576b\"],[0.6666666666666666,\"#ed7953\"],[0.7777777777777778,\"#fb9f3a\"],[0.8888888888888888,\"#fdca26\"],[1.0,\"#f0f921\"]]}],\"mesh3d\":[{\"type\":\"mesh3d\",\"colorbar\":{\"outlinewidth\":0,\"ticks\":\"\"}}],\"scatter\":[{\"fillpattern\":{\"fillmode\":\"overlay\",\"size\":10,\"solidity\":0.2},\"type\":\"scatter\"}],\"parcoords\":[{\"type\":\"parcoords\",\"line\":{\"colorbar\":{\"outlinewidth\":0,\"ticks\":\"\"}}}],\"scatterpolargl\":[{\"type\":\"scatterpolargl\",\"marker\":{\"colorbar\":{\"outlinewidth\":0,\"ticks\":\"\"}}}],\"bar\":[{\"error_x\":{\"color\":\"#2a3f5f\"},\"error_y\":{\"color\":\"#2a3f5f\"},\"marker\":{\"line\":{\"color\":\"#E5ECF6\",\"width\":0.5},\"pattern\":{\"fillmode\":\"overlay\",\"size\":10,\"solidity\":0.2}},\"type\":\"bar\"}],\"scattergeo\":[{\"type\":\"scattergeo\",\"marker\":{\"colorbar\":{\"outlinewidth\":0,\"ticks\":\"\"}}}],\"scatterpolar\":[{\"type\":\"scatterpolar\",\"marker\":{\"colorbar\":{\"outlinewidth\":0,\"ticks\":\"\"}}}],\"histogram\":[{\"marker\":{\"pattern\":{\"fillmode\":\"overlay\",\"size\":10,\"solidity\":0.2}},\"type\":\"histogram\"}],\"scattergl\":[{\"type\":\"scattergl\",\"marker\":{\"colorbar\":{\"outlinewidth\":0,\"ticks\":\"\"}}}],\"scatter3d\":[{\"type\":\"scatter3d\",\"line\":{\"colorbar\":{\"outlinewidth\":0,\"ticks\":\"\"}},\"marker\":{\"colorbar\":{\"outlinewidth\":0,\"ticks\":\"\"}}}],\"scattermapbox\":[{\"type\":\"scattermapbox\",\"marker\":{\"colorbar\":{\"outlinewidth\":0,\"ticks\":\"\"}}}],\"scatterternary\":[{\"type\":\"scatterternary\",\"marker\":{\"colorbar\":{\"outlinewidth\":0,\"ticks\":\"\"}}}],\"scattercarpet\":[{\"type\":\"scattercarpet\",\"marker\":{\"colorbar\":{\"outlinewidth\":0,\"ticks\":\"\"}}}],\"carpet\":[{\"aaxis\":{\"endlinecolor\":\"#2a3f5f\",\"gridcolor\":\"white\",\"linecolor\":\"white\",\"minorgridcolor\":\"white\",\"startlinecolor\":\"#2a3f5f\"},\"baxis\":{\"endlinecolor\":\"#2a3f5f\",\"gridcolor\":\"white\",\"linecolor\":\"white\",\"minorgridcolor\":\"white\",\"startlinecolor\":\"#2a3f5f\"},\"type\":\"carpet\"}],\"table\":[{\"cells\":{\"fill\":{\"color\":\"#EBF0F8\"},\"line\":{\"color\":\"white\"}},\"header\":{\"fill\":{\"color\":\"#C8D4E3\"},\"line\":{\"color\":\"white\"}},\"type\":\"table\"}],\"barpolar\":[{\"marker\":{\"line\":{\"color\":\"#E5ECF6\",\"width\":0.5},\"pattern\":{\"fillmode\":\"overlay\",\"size\":10,\"solidity\":0.2}},\"type\":\"barpolar\"}],\"pie\":[{\"automargin\":true,\"type\":\"pie\"}]},\"layout\":{\"autotypenumbers\":\"strict\",\"colorway\":[\"#636efa\",\"#EF553B\",\"#00cc96\",\"#ab63fa\",\"#FFA15A\",\"#19d3f3\",\"#FF6692\",\"#B6E880\",\"#FF97FF\",\"#FECB52\"],\"font\":{\"color\":\"#2a3f5f\"},\"hovermode\":\"closest\",\"hoverlabel\":{\"align\":\"left\"},\"paper_bgcolor\":\"white\",\"plot_bgcolor\":\"#E5ECF6\",\"polar\":{\"bgcolor\":\"#E5ECF6\",\"angularaxis\":{\"gridcolor\":\"white\",\"linecolor\":\"white\",\"ticks\":\"\"},\"radialaxis\":{\"gridcolor\":\"white\",\"linecolor\":\"white\",\"ticks\":\"\"}},\"ternary\":{\"bgcolor\":\"#E5ECF6\",\"aaxis\":{\"gridcolor\":\"white\",\"linecolor\":\"white\",\"ticks\":\"\"},\"baxis\":{\"gridcolor\":\"white\",\"linecolor\":\"white\",\"ticks\":\"\"},\"caxis\":{\"gridcolor\":\"white\",\"linecolor\":\"white\",\"ticks\":\"\"}},\"coloraxis\":{\"colorbar\":{\"outlinewidth\":0,\"ticks\":\"\"}},\"colorscale\":{\"sequential\":[[0.0,\"#0d0887\"],[0.1111111111111111,\"#46039f\"],[0.2222222222222222,\"#7201a8\"],[0.3333333333333333,\"#9c179e\"],[0.4444444444444444,\"#bd3786\"],[0.5555555555555556,\"#d8576b\"],[0.6666666666666666,\"#ed7953\"],[0.7777777777777778,\"#fb9f3a\"],[0.8888888888888888,\"#fdca26\"],[1.0,\"#f0f921\"]],\"sequentialminus\":[[0.0,\"#0d0887\"],[0.1111111111111111,\"#46039f\"],[0.2222222222222222,\"#7201a8\"],[0.3333333333333333,\"#9c179e\"],[0.4444444444444444,\"#bd3786\"],[0.5555555555555556,\"#d8576b\"],[0.6666666666666666,\"#ed7953\"],[0.7777777777777778,\"#fb9f3a\"],[0.8888888888888888,\"#fdca26\"],[1.0,\"#f0f921\"]],\"diverging\":[[0,\"#8e0152\"],[0.1,\"#c51b7d\"],[0.2,\"#de77ae\"],[0.3,\"#f1b6da\"],[0.4,\"#fde0ef\"],[0.5,\"#f7f7f7\"],[0.6,\"#e6f5d0\"],[0.7,\"#b8e186\"],[0.8,\"#7fbc41\"],[0.9,\"#4d9221\"],[1,\"#276419\"]]},\"xaxis\":{\"gridcolor\":\"white\",\"linecolor\":\"white\",\"ticks\":\"\",\"title\":{\"standoff\":15},\"zerolinecolor\":\"white\",\"automargin\":true,\"zerolinewidth\":2},\"yaxis\":{\"gridcolor\":\"white\",\"linecolor\":\"white\",\"ticks\":\"\",\"title\":{\"standoff\":15},\"zerolinecolor\":\"white\",\"automargin\":true,\"zerolinewidth\":2},\"scene\":{\"xaxis\":{\"backgroundcolor\":\"#E5ECF6\",\"gridcolor\":\"white\",\"linecolor\":\"white\",\"showbackground\":true,\"ticks\":\"\",\"zerolinecolor\":\"white\",\"gridwidth\":2},\"yaxis\":{\"backgroundcolor\":\"#E5ECF6\",\"gridcolor\":\"white\",\"linecolor\":\"white\",\"showbackground\":true,\"ticks\":\"\",\"zerolinecolor\":\"white\",\"gridwidth\":2},\"zaxis\":{\"backgroundcolor\":\"#E5ECF6\",\"gridcolor\":\"white\",\"linecolor\":\"white\",\"showbackground\":true,\"ticks\":\"\",\"zerolinecolor\":\"white\",\"gridwidth\":2}},\"shapedefaults\":{\"line\":{\"color\":\"#2a3f5f\"}},\"annotationdefaults\":{\"arrowcolor\":\"#2a3f5f\",\"arrowhead\":0,\"arrowwidth\":1},\"geo\":{\"bgcolor\":\"white\",\"landcolor\":\"#E5ECF6\",\"subunitcolor\":\"white\",\"showland\":true,\"showlakes\":true,\"lakecolor\":\"white\"},\"title\":{\"x\":0.05},\"mapbox\":{\"style\":\"light\"}}},\"title\":{\"text\":\"Distribution of Sentiment Scores\",\"x\":0.5},\"xaxis\":{\"title\":{\"text\":\"Sentiment\"}},\"yaxis\":{\"title\":{\"text\":\"Count\"}}},                        {\"responsive\": true}                    ).then(function(){\n",
              "                            \n",
              "var gd = document.getElementById('8b076b94-3682-48fe-8525-2fd3ec22a3e6');\n",
              "var x = new MutationObserver(function (mutations, observer) {{\n",
              "        var display = window.getComputedStyle(gd).display;\n",
              "        if (!display || display === 'none') {{\n",
              "            console.log([gd, 'removed!']);\n",
              "            Plotly.purge(gd);\n",
              "            observer.disconnect();\n",
              "        }}\n",
              "}});\n",
              "\n",
              "// Listen for the removal of the full notebook cells\n",
              "var notebookContainer = gd.closest('#notebook-container');\n",
              "if (notebookContainer) {{\n",
              "    x.observe(notebookContainer, {childList: true});\n",
              "}}\n",
              "\n",
              "// Listen for the clearing of the current output cell\n",
              "var outputEl = gd.closest('.output');\n",
              "if (outputEl) {{\n",
              "    x.observe(outputEl, {childList: true});\n",
              "}}\n",
              "\n",
              "                        })                };                            </script>        </div>\n",
              "</body>\n",
              "</html>"
            ]
          },
          "metadata": {},
          "output_type": "display_data"
        }
      ],
      "source": [
        "labels = sentiment_distribution_pd[\"label\"]\n",
        "values = sentiment_distribution_pd[\"count\"]\n",
        "\n",
        "fig = go.Figure(data=go.Scatter(x=labels, y=values, mode='lines+markers', marker=dict(size=10)))\n",
        "\n",
        "fig.update_layout(\n",
        "    title=\"Distribution of Sentiment Scores\",\n",
        "    xaxis_title=\"Sentiment\",\n",
        "    yaxis_title=\"Count\",\n",
        "    title_x=0.5\n",
        ")\n",
        "\n",
        "fig.show()"
      ]
    },
    {
      "cell_type": "code",
      "execution_count": 50,
      "metadata": {
        "colab": {
          "base_uri": "https://localhost:8080/",
          "height": 542
        },
        "id": "i5o86vHQ_hnu",
        "outputId": "69a0d370-0e26-404b-dd24-e4062d2f283e"
      },
      "outputs": [
        {
          "data": {
            "text/html": [
              "<html>\n",
              "<head><meta charset=\"utf-8\" /></head>\n",
              "<body>\n",
              "    <div>            <script src=\"https://cdnjs.cloudflare.com/ajax/libs/mathjax/2.7.5/MathJax.js?config=TeX-AMS-MML_SVG\"></script><script type=\"text/javascript\">if (window.MathJax && window.MathJax.Hub && window.MathJax.Hub.Config) {window.MathJax.Hub.Config({SVG: {font: \"STIX-Web\"}});}</script>                <script type=\"text/javascript\">window.PlotlyConfig = {MathJaxConfig: 'local'};</script>\n",
              "        <script charset=\"utf-8\" src=\"https://cdn.plot.ly/plotly-2.24.1.min.js\"></script>                <div id=\"9e9e0a20-4b43-496d-aedd-7d38f5a26d2d\" class=\"plotly-graph-div\" style=\"height:525px; width:100%;\"></div>            <script type=\"text/javascript\">                                    window.PLOTLYENV=window.PLOTLYENV || {};                                    if (document.getElementById(\"9e9e0a20-4b43-496d-aedd-7d38f5a26d2d\")) {                    Plotly.newPlot(                        \"9e9e0a20-4b43-496d-aedd-7d38f5a26d2d\",                        [{\"x\":[0.0,1.0,2.0],\"y\":[2509,1077,317],\"type\":\"bar\"}],                        {\"template\":{\"data\":{\"histogram2dcontour\":[{\"type\":\"histogram2dcontour\",\"colorbar\":{\"outlinewidth\":0,\"ticks\":\"\"},\"colorscale\":[[0.0,\"#0d0887\"],[0.1111111111111111,\"#46039f\"],[0.2222222222222222,\"#7201a8\"],[0.3333333333333333,\"#9c179e\"],[0.4444444444444444,\"#bd3786\"],[0.5555555555555556,\"#d8576b\"],[0.6666666666666666,\"#ed7953\"],[0.7777777777777778,\"#fb9f3a\"],[0.8888888888888888,\"#fdca26\"],[1.0,\"#f0f921\"]]}],\"choropleth\":[{\"type\":\"choropleth\",\"colorbar\":{\"outlinewidth\":0,\"ticks\":\"\"}}],\"histogram2d\":[{\"type\":\"histogram2d\",\"colorbar\":{\"outlinewidth\":0,\"ticks\":\"\"},\"colorscale\":[[0.0,\"#0d0887\"],[0.1111111111111111,\"#46039f\"],[0.2222222222222222,\"#7201a8\"],[0.3333333333333333,\"#9c179e\"],[0.4444444444444444,\"#bd3786\"],[0.5555555555555556,\"#d8576b\"],[0.6666666666666666,\"#ed7953\"],[0.7777777777777778,\"#fb9f3a\"],[0.8888888888888888,\"#fdca26\"],[1.0,\"#f0f921\"]]}],\"heatmap\":[{\"type\":\"heatmap\",\"colorbar\":{\"outlinewidth\":0,\"ticks\":\"\"},\"colorscale\":[[0.0,\"#0d0887\"],[0.1111111111111111,\"#46039f\"],[0.2222222222222222,\"#7201a8\"],[0.3333333333333333,\"#9c179e\"],[0.4444444444444444,\"#bd3786\"],[0.5555555555555556,\"#d8576b\"],[0.6666666666666666,\"#ed7953\"],[0.7777777777777778,\"#fb9f3a\"],[0.8888888888888888,\"#fdca26\"],[1.0,\"#f0f921\"]]}],\"heatmapgl\":[{\"type\":\"heatmapgl\",\"colorbar\":{\"outlinewidth\":0,\"ticks\":\"\"},\"colorscale\":[[0.0,\"#0d0887\"],[0.1111111111111111,\"#46039f\"],[0.2222222222222222,\"#7201a8\"],[0.3333333333333333,\"#9c179e\"],[0.4444444444444444,\"#bd3786\"],[0.5555555555555556,\"#d8576b\"],[0.6666666666666666,\"#ed7953\"],[0.7777777777777778,\"#fb9f3a\"],[0.8888888888888888,\"#fdca26\"],[1.0,\"#f0f921\"]]}],\"contourcarpet\":[{\"type\":\"contourcarpet\",\"colorbar\":{\"outlinewidth\":0,\"ticks\":\"\"}}],\"contour\":[{\"type\":\"contour\",\"colorbar\":{\"outlinewidth\":0,\"ticks\":\"\"},\"colorscale\":[[0.0,\"#0d0887\"],[0.1111111111111111,\"#46039f\"],[0.2222222222222222,\"#7201a8\"],[0.3333333333333333,\"#9c179e\"],[0.4444444444444444,\"#bd3786\"],[0.5555555555555556,\"#d8576b\"],[0.6666666666666666,\"#ed7953\"],[0.7777777777777778,\"#fb9f3a\"],[0.8888888888888888,\"#fdca26\"],[1.0,\"#f0f921\"]]}],\"surface\":[{\"type\":\"surface\",\"colorbar\":{\"outlinewidth\":0,\"ticks\":\"\"},\"colorscale\":[[0.0,\"#0d0887\"],[0.1111111111111111,\"#46039f\"],[0.2222222222222222,\"#7201a8\"],[0.3333333333333333,\"#9c179e\"],[0.4444444444444444,\"#bd3786\"],[0.5555555555555556,\"#d8576b\"],[0.6666666666666666,\"#ed7953\"],[0.7777777777777778,\"#fb9f3a\"],[0.8888888888888888,\"#fdca26\"],[1.0,\"#f0f921\"]]}],\"mesh3d\":[{\"type\":\"mesh3d\",\"colorbar\":{\"outlinewidth\":0,\"ticks\":\"\"}}],\"scatter\":[{\"fillpattern\":{\"fillmode\":\"overlay\",\"size\":10,\"solidity\":0.2},\"type\":\"scatter\"}],\"parcoords\":[{\"type\":\"parcoords\",\"line\":{\"colorbar\":{\"outlinewidth\":0,\"ticks\":\"\"}}}],\"scatterpolargl\":[{\"type\":\"scatterpolargl\",\"marker\":{\"colorbar\":{\"outlinewidth\":0,\"ticks\":\"\"}}}],\"bar\":[{\"error_x\":{\"color\":\"#2a3f5f\"},\"error_y\":{\"color\":\"#2a3f5f\"},\"marker\":{\"line\":{\"color\":\"#E5ECF6\",\"width\":0.5},\"pattern\":{\"fillmode\":\"overlay\",\"size\":10,\"solidity\":0.2}},\"type\":\"bar\"}],\"scattergeo\":[{\"type\":\"scattergeo\",\"marker\":{\"colorbar\":{\"outlinewidth\":0,\"ticks\":\"\"}}}],\"scatterpolar\":[{\"type\":\"scatterpolar\",\"marker\":{\"colorbar\":{\"outlinewidth\":0,\"ticks\":\"\"}}}],\"histogram\":[{\"marker\":{\"pattern\":{\"fillmode\":\"overlay\",\"size\":10,\"solidity\":0.2}},\"type\":\"histogram\"}],\"scattergl\":[{\"type\":\"scattergl\",\"marker\":{\"colorbar\":{\"outlinewidth\":0,\"ticks\":\"\"}}}],\"scatter3d\":[{\"type\":\"scatter3d\",\"line\":{\"colorbar\":{\"outlinewidth\":0,\"ticks\":\"\"}},\"marker\":{\"colorbar\":{\"outlinewidth\":0,\"ticks\":\"\"}}}],\"scattermapbox\":[{\"type\":\"scattermapbox\",\"marker\":{\"colorbar\":{\"outlinewidth\":0,\"ticks\":\"\"}}}],\"scatterternary\":[{\"type\":\"scatterternary\",\"marker\":{\"colorbar\":{\"outlinewidth\":0,\"ticks\":\"\"}}}],\"scattercarpet\":[{\"type\":\"scattercarpet\",\"marker\":{\"colorbar\":{\"outlinewidth\":0,\"ticks\":\"\"}}}],\"carpet\":[{\"aaxis\":{\"endlinecolor\":\"#2a3f5f\",\"gridcolor\":\"white\",\"linecolor\":\"white\",\"minorgridcolor\":\"white\",\"startlinecolor\":\"#2a3f5f\"},\"baxis\":{\"endlinecolor\":\"#2a3f5f\",\"gridcolor\":\"white\",\"linecolor\":\"white\",\"minorgridcolor\":\"white\",\"startlinecolor\":\"#2a3f5f\"},\"type\":\"carpet\"}],\"table\":[{\"cells\":{\"fill\":{\"color\":\"#EBF0F8\"},\"line\":{\"color\":\"white\"}},\"header\":{\"fill\":{\"color\":\"#C8D4E3\"},\"line\":{\"color\":\"white\"}},\"type\":\"table\"}],\"barpolar\":[{\"marker\":{\"line\":{\"color\":\"#E5ECF6\",\"width\":0.5},\"pattern\":{\"fillmode\":\"overlay\",\"size\":10,\"solidity\":0.2}},\"type\":\"barpolar\"}],\"pie\":[{\"automargin\":true,\"type\":\"pie\"}]},\"layout\":{\"autotypenumbers\":\"strict\",\"colorway\":[\"#636efa\",\"#EF553B\",\"#00cc96\",\"#ab63fa\",\"#FFA15A\",\"#19d3f3\",\"#FF6692\",\"#B6E880\",\"#FF97FF\",\"#FECB52\"],\"font\":{\"color\":\"#2a3f5f\"},\"hovermode\":\"closest\",\"hoverlabel\":{\"align\":\"left\"},\"paper_bgcolor\":\"white\",\"plot_bgcolor\":\"#E5ECF6\",\"polar\":{\"bgcolor\":\"#E5ECF6\",\"angularaxis\":{\"gridcolor\":\"white\",\"linecolor\":\"white\",\"ticks\":\"\"},\"radialaxis\":{\"gridcolor\":\"white\",\"linecolor\":\"white\",\"ticks\":\"\"}},\"ternary\":{\"bgcolor\":\"#E5ECF6\",\"aaxis\":{\"gridcolor\":\"white\",\"linecolor\":\"white\",\"ticks\":\"\"},\"baxis\":{\"gridcolor\":\"white\",\"linecolor\":\"white\",\"ticks\":\"\"},\"caxis\":{\"gridcolor\":\"white\",\"linecolor\":\"white\",\"ticks\":\"\"}},\"coloraxis\":{\"colorbar\":{\"outlinewidth\":0,\"ticks\":\"\"}},\"colorscale\":{\"sequential\":[[0.0,\"#0d0887\"],[0.1111111111111111,\"#46039f\"],[0.2222222222222222,\"#7201a8\"],[0.3333333333333333,\"#9c179e\"],[0.4444444444444444,\"#bd3786\"],[0.5555555555555556,\"#d8576b\"],[0.6666666666666666,\"#ed7953\"],[0.7777777777777778,\"#fb9f3a\"],[0.8888888888888888,\"#fdca26\"],[1.0,\"#f0f921\"]],\"sequentialminus\":[[0.0,\"#0d0887\"],[0.1111111111111111,\"#46039f\"],[0.2222222222222222,\"#7201a8\"],[0.3333333333333333,\"#9c179e\"],[0.4444444444444444,\"#bd3786\"],[0.5555555555555556,\"#d8576b\"],[0.6666666666666666,\"#ed7953\"],[0.7777777777777778,\"#fb9f3a\"],[0.8888888888888888,\"#fdca26\"],[1.0,\"#f0f921\"]],\"diverging\":[[0,\"#8e0152\"],[0.1,\"#c51b7d\"],[0.2,\"#de77ae\"],[0.3,\"#f1b6da\"],[0.4,\"#fde0ef\"],[0.5,\"#f7f7f7\"],[0.6,\"#e6f5d0\"],[0.7,\"#b8e186\"],[0.8,\"#7fbc41\"],[0.9,\"#4d9221\"],[1,\"#276419\"]]},\"xaxis\":{\"gridcolor\":\"white\",\"linecolor\":\"white\",\"ticks\":\"\",\"title\":{\"standoff\":15},\"zerolinecolor\":\"white\",\"automargin\":true,\"zerolinewidth\":2},\"yaxis\":{\"gridcolor\":\"white\",\"linecolor\":\"white\",\"ticks\":\"\",\"title\":{\"standoff\":15},\"zerolinecolor\":\"white\",\"automargin\":true,\"zerolinewidth\":2},\"scene\":{\"xaxis\":{\"backgroundcolor\":\"#E5ECF6\",\"gridcolor\":\"white\",\"linecolor\":\"white\",\"showbackground\":true,\"ticks\":\"\",\"zerolinecolor\":\"white\",\"gridwidth\":2},\"yaxis\":{\"backgroundcolor\":\"#E5ECF6\",\"gridcolor\":\"white\",\"linecolor\":\"white\",\"showbackground\":true,\"ticks\":\"\",\"zerolinecolor\":\"white\",\"gridwidth\":2},\"zaxis\":{\"backgroundcolor\":\"#E5ECF6\",\"gridcolor\":\"white\",\"linecolor\":\"white\",\"showbackground\":true,\"ticks\":\"\",\"zerolinecolor\":\"white\",\"gridwidth\":2}},\"shapedefaults\":{\"line\":{\"color\":\"#2a3f5f\"}},\"annotationdefaults\":{\"arrowcolor\":\"#2a3f5f\",\"arrowhead\":0,\"arrowwidth\":1},\"geo\":{\"bgcolor\":\"white\",\"landcolor\":\"#E5ECF6\",\"subunitcolor\":\"white\",\"showland\":true,\"showlakes\":true,\"lakecolor\":\"white\"},\"title\":{\"x\":0.05},\"mapbox\":{\"style\":\"light\"}}},\"title\":{\"text\":\"Distribution of Sentiment Scores\",\"x\":0.5},\"xaxis\":{\"title\":{\"text\":\"Sentiment\"}},\"yaxis\":{\"title\":{\"text\":\"Count\"}}},                        {\"responsive\": true}                    ).then(function(){\n",
              "                            \n",
              "var gd = document.getElementById('9e9e0a20-4b43-496d-aedd-7d38f5a26d2d');\n",
              "var x = new MutationObserver(function (mutations, observer) {{\n",
              "        var display = window.getComputedStyle(gd).display;\n",
              "        if (!display || display === 'none') {{\n",
              "            console.log([gd, 'removed!']);\n",
              "            Plotly.purge(gd);\n",
              "            observer.disconnect();\n",
              "        }}\n",
              "}});\n",
              "\n",
              "// Listen for the removal of the full notebook cells\n",
              "var notebookContainer = gd.closest('#notebook-container');\n",
              "if (notebookContainer) {{\n",
              "    x.observe(notebookContainer, {childList: true});\n",
              "}}\n",
              "\n",
              "// Listen for the clearing of the current output cell\n",
              "var outputEl = gd.closest('.output');\n",
              "if (outputEl) {{\n",
              "    x.observe(outputEl, {childList: true});\n",
              "}}\n",
              "\n",
              "                        })                };                            </script>        </div>\n",
              "</body>\n",
              "</html>"
            ]
          },
          "metadata": {},
          "output_type": "display_data"
        }
      ],
      "source": [
        "\n",
        "# Assuming sentiment_distribution_pd is your DataFrame with columns 'label' and 'count'\n",
        "labels = sentiment_distribution_pd[\"label\"]\n",
        "values = sentiment_distribution_pd[\"count\"]\n",
        "\n",
        "# Create the bar graph\n",
        "fig = go.Figure(data=go.Bar(x=labels, y=values))\n",
        "\n",
        "# Update layout\n",
        "fig.update_layout(\n",
        "    title=\"Distribution of Sentiment Scores\",\n",
        "    xaxis_title=\"Sentiment\",\n",
        "    yaxis_title=\"Count\",\n",
        "    title_x=0.5\n",
        ")\n",
        "\n",
        "# Show the plot\n",
        "fig.show()\n"
      ]
    },
    {
      "cell_type": "code",
      "execution_count": 33,
      "metadata": {
        "colab": {
          "base_uri": "https://localhost:8080/",
          "height": 444
        },
        "id": "AkS4krzQ9D9o",
        "outputId": "fa83c78f-33a2-481b-b73e-4e78adf79228"
      },
      "outputs": [
        {
          "data": {
            "image/png": "[encoded data removed]",
            "text/plain": [
              "<Figure size 1000x500 with 1 Axes>"
            ]
          },
          "metadata": {},
          "output_type": "display_data"
        }
      ],
      "source": [
        "# Convert DataFrame to Pandas DataFrame for visualization\n",
        "top_keywords_pd = top_keywords.toPandas()\n",
        "\n",
        "# Create a string of all keywords\n",
        "wordcloud_text = ' '.join(top_keywords_pd[\"keyword\"])\n",
        "\n",
        "# Generate word cloud\n",
        "wordcloud = WordCloud(width=800, height=400, background_color='white').generate(wordcloud_text)\n",
        "\n",
        "# Display the word cloud\n",
        "plt.figure(figsize=(10, 5))\n",
        "plt.imshow(wordcloud, interpolation='bilinear')\n",
        "plt.axis('off')\n",
        "plt.title('Word Cloud of Most Frequent Terms')\n",
        "plt.show()"
      ]
    }
  ],
  "metadata": {
    "accelerator": "GPU",
    "colab": {
      "gpuType": "T4",
      "provenance": []
    },
    "kernelspec": {
      "display_name": "Python 3",
      "name": "python3"
    },
    "language_info": {
      "codemirror_mode": {
        "name": "ipython",
        "version": 3
      },
      "file_extension": ".py",
      "mimetype": "text/x-python",
      "name": "python",
      "nbconvert_exporter": "python",
      "pygments_lexer": "ipython3",
      "version": "3.12.3"
    }
  },
  "nbformat": 4,
  "nbformat_minor": 0
}
